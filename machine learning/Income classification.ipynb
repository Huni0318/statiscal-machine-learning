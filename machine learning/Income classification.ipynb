{
 "cells": [
  {
   "cell_type": "code",
   "execution_count": 1,
   "metadata": {},
   "outputs": [],
   "source": [
    "import pandas as pd\n",
    "import numpy as np\n",
    "import matplotlib.pyplot as plt\n",
    "import seaborn as sns\n",
    "import warnings\n",
    "import os\n",
    "import matplotlib.pyplot as plt\n",
    "import matplotlib.ticker as mtick\n",
    "import matplotlib.gridspec as grid_spec\n",
    "import seaborn as sns\n",
    "from imblearn.over_sampling import SMOTE\n",
    "\n",
    "from sklearn.metrics import precision_recall_curve\n",
    "from sklearn.pipeline import Pipeline\n",
    "from sklearn.preprocessing import StandardScaler,LabelEncoder\n",
    "from sklearn.model_selection import train_test_split,cross_val_score\n",
    "from sklearn.ensemble import RandomForestClassifier\n",
    "from lightgbm import LGBMClassifier\n",
    "from xgboost import XGBClassifier\n",
    "\n",
    "from sklearn.metrics import classification_report, confusion_matrix\n",
    "from sklearn.metrics import accuracy_score, recall_score, roc_auc_score, precision_score, f1_score\n",
    "from sklearn.tree import DecisionTreeRegressor,DecisionTreeClassifier"
   ]
  },
  {
   "cell_type": "code",
   "execution_count": 171,
   "metadata": {},
   "outputs": [],
   "source": [
    "import xgboost as xgb\n",
    "from xgboost import plot_importance\n"
   ]
  },
  {
   "cell_type": "code",
   "execution_count": 2,
   "metadata": {},
   "outputs": [],
   "source": [
    "%matplotlib inline\n",
    "warnings.filterwarnings(\"ignore\", category=RuntimeWarning)\n",
    "os.chdir(r'C:\\Users\\신상훈\\바탕화면\\학과\\대학원 1-2\\통계적 기계학습\\머신러닝')"
   ]
  },
  {
   "cell_type": "code",
   "execution_count": 214,
   "metadata": {},
   "outputs": [],
   "source": [
    "df = pd.read_csv('income_evaluation.csv')"
   ]
  },
  {
   "cell_type": "code",
   "execution_count": 108,
   "metadata": {},
   "outputs": [
    {
     "data": {
      "text/html": [
       "<div>\n",
       "<style scoped>\n",
       "    .dataframe tbody tr th:only-of-type {\n",
       "        vertical-align: middle;\n",
       "    }\n",
       "\n",
       "    .dataframe tbody tr th {\n",
       "        vertical-align: top;\n",
       "    }\n",
       "\n",
       "    .dataframe thead th {\n",
       "        text-align: right;\n",
       "    }\n",
       "</style>\n",
       "<table border=\"1\" class=\"dataframe\">\n",
       "  <thead>\n",
       "    <tr style=\"text-align: right;\">\n",
       "      <th></th>\n",
       "      <th>age</th>\n",
       "      <th>workclass</th>\n",
       "      <th>fnlwgt</th>\n",
       "      <th>education</th>\n",
       "      <th>education-num</th>\n",
       "      <th>marital-status</th>\n",
       "      <th>occupation</th>\n",
       "      <th>relationship</th>\n",
       "      <th>race</th>\n",
       "      <th>sex</th>\n",
       "      <th>capital-gain</th>\n",
       "      <th>capital-loss</th>\n",
       "      <th>hours-per-week</th>\n",
       "      <th>native-country</th>\n",
       "      <th>income</th>\n",
       "    </tr>\n",
       "  </thead>\n",
       "  <tbody>\n",
       "    <tr>\n",
       "      <th>0</th>\n",
       "      <td>39</td>\n",
       "      <td>State-gov</td>\n",
       "      <td>77516</td>\n",
       "      <td>Bachelors</td>\n",
       "      <td>13</td>\n",
       "      <td>Never-married</td>\n",
       "      <td>Adm-clerical</td>\n",
       "      <td>Not-in-family</td>\n",
       "      <td>White</td>\n",
       "      <td>Male</td>\n",
       "      <td>2174</td>\n",
       "      <td>0</td>\n",
       "      <td>40</td>\n",
       "      <td>United-States</td>\n",
       "      <td>&lt;=50K</td>\n",
       "    </tr>\n",
       "    <tr>\n",
       "      <th>1</th>\n",
       "      <td>50</td>\n",
       "      <td>Self-emp-not-inc</td>\n",
       "      <td>83311</td>\n",
       "      <td>Bachelors</td>\n",
       "      <td>13</td>\n",
       "      <td>Married-civ-spouse</td>\n",
       "      <td>Exec-managerial</td>\n",
       "      <td>Husband</td>\n",
       "      <td>White</td>\n",
       "      <td>Male</td>\n",
       "      <td>0</td>\n",
       "      <td>0</td>\n",
       "      <td>13</td>\n",
       "      <td>United-States</td>\n",
       "      <td>&lt;=50K</td>\n",
       "    </tr>\n",
       "    <tr>\n",
       "      <th>2</th>\n",
       "      <td>38</td>\n",
       "      <td>Private</td>\n",
       "      <td>215646</td>\n",
       "      <td>HS-grad</td>\n",
       "      <td>9</td>\n",
       "      <td>Divorced</td>\n",
       "      <td>Handlers-cleaners</td>\n",
       "      <td>Not-in-family</td>\n",
       "      <td>White</td>\n",
       "      <td>Male</td>\n",
       "      <td>0</td>\n",
       "      <td>0</td>\n",
       "      <td>40</td>\n",
       "      <td>United-States</td>\n",
       "      <td>&lt;=50K</td>\n",
       "    </tr>\n",
       "    <tr>\n",
       "      <th>3</th>\n",
       "      <td>53</td>\n",
       "      <td>Private</td>\n",
       "      <td>234721</td>\n",
       "      <td>11th</td>\n",
       "      <td>7</td>\n",
       "      <td>Married-civ-spouse</td>\n",
       "      <td>Handlers-cleaners</td>\n",
       "      <td>Husband</td>\n",
       "      <td>Black</td>\n",
       "      <td>Male</td>\n",
       "      <td>0</td>\n",
       "      <td>0</td>\n",
       "      <td>40</td>\n",
       "      <td>United-States</td>\n",
       "      <td>&lt;=50K</td>\n",
       "    </tr>\n",
       "    <tr>\n",
       "      <th>4</th>\n",
       "      <td>28</td>\n",
       "      <td>Private</td>\n",
       "      <td>338409</td>\n",
       "      <td>Bachelors</td>\n",
       "      <td>13</td>\n",
       "      <td>Married-civ-spouse</td>\n",
       "      <td>Prof-specialty</td>\n",
       "      <td>Wife</td>\n",
       "      <td>Black</td>\n",
       "      <td>Female</td>\n",
       "      <td>0</td>\n",
       "      <td>0</td>\n",
       "      <td>40</td>\n",
       "      <td>Cuba</td>\n",
       "      <td>&lt;=50K</td>\n",
       "    </tr>\n",
       "  </tbody>\n",
       "</table>\n",
       "</div>"
      ],
      "text/plain": [
       "   age          workclass   fnlwgt   education   education-num  \\\n",
       "0   39          State-gov    77516   Bachelors              13   \n",
       "1   50   Self-emp-not-inc    83311   Bachelors              13   \n",
       "2   38            Private   215646     HS-grad               9   \n",
       "3   53            Private   234721        11th               7   \n",
       "4   28            Private   338409   Bachelors              13   \n",
       "\n",
       "        marital-status          occupation    relationship    race      sex  \\\n",
       "0        Never-married        Adm-clerical   Not-in-family   White     Male   \n",
       "1   Married-civ-spouse     Exec-managerial         Husband   White     Male   \n",
       "2             Divorced   Handlers-cleaners   Not-in-family   White     Male   \n",
       "3   Married-civ-spouse   Handlers-cleaners         Husband   Black     Male   \n",
       "4   Married-civ-spouse      Prof-specialty            Wife   Black   Female   \n",
       "\n",
       "    capital-gain   capital-loss   hours-per-week  native-country  income  \n",
       "0           2174              0               40   United-States   <=50K  \n",
       "1              0              0               13   United-States   <=50K  \n",
       "2              0              0               40   United-States   <=50K  \n",
       "3              0              0               40   United-States   <=50K  \n",
       "4              0              0               40            Cuba   <=50K  "
      ]
     },
     "execution_count": 108,
     "metadata": {},
     "output_type": "execute_result"
    }
   ],
   "source": [
    "df.head()"
   ]
  },
  {
   "cell_type": "code",
   "execution_count": 109,
   "metadata": {},
   "outputs": [
    {
     "name": "stdout",
     "output_type": "stream",
     "text": [
      "<class 'pandas.core.frame.DataFrame'>\n",
      "RangeIndex: 32561 entries, 0 to 32560\n",
      "Data columns (total 15 columns):\n",
      " #   Column           Non-Null Count  Dtype \n",
      "---  ------           --------------  ----- \n",
      " 0   age              32561 non-null  int64 \n",
      " 1    workclass       32561 non-null  object\n",
      " 2    fnlwgt          32561 non-null  int64 \n",
      " 3    education       32561 non-null  object\n",
      " 4    education-num   32561 non-null  int64 \n",
      " 5    marital-status  32561 non-null  object\n",
      " 6    occupation      32561 non-null  object\n",
      " 7    relationship    32561 non-null  object\n",
      " 8    race            32561 non-null  object\n",
      " 9    sex             32561 non-null  object\n",
      " 10   capital-gain    32561 non-null  int64 \n",
      " 11   capital-loss    32561 non-null  int64 \n",
      " 12   hours-per-week  32561 non-null  int64 \n",
      " 13   native-country  32561 non-null  object\n",
      " 14   income          32561 non-null  object\n",
      "dtypes: int64(6), object(9)\n",
      "memory usage: 3.7+ MB\n"
     ]
    }
   ],
   "source": [
    "df.info()"
   ]
  },
  {
   "cell_type": "code",
   "execution_count": 110,
   "metadata": {},
   "outputs": [
    {
     "data": {
      "text/plain": [
       "(32561, 15)"
      ]
     },
     "execution_count": 110,
     "metadata": {},
     "output_type": "execute_result"
    }
   ],
   "source": [
    "df.shape"
   ]
  },
  {
   "cell_type": "code",
   "execution_count": 111,
   "metadata": {},
   "outputs": [
    {
     "data": {
      "text/plain": [
       "Index(['age', 'workclass', 'fnlwgt', 'education', 'education_num',\n",
       "       'marital_status', 'occupation', 'relationship', 'race', 'sex',\n",
       "       'capital_gain', 'capital_loss', 'hours_per_week', 'native_country',\n",
       "       'income'],\n",
       "      dtype='object')"
      ]
     },
     "execution_count": 111,
     "metadata": {},
     "output_type": "execute_result"
    }
   ],
   "source": [
    "col_names = ['age', 'workclass', 'fnlwgt', 'education', 'education_num', 'marital_status', 'occupation', 'relationship',\n",
    "             'race', 'sex', 'capital_gain', 'capital_loss', 'hours_per_week', 'native_country', 'income']\n",
    "\n",
    "df.columns = col_names\n",
    "\n",
    "df.columns"
   ]
  },
  {
   "cell_type": "code",
   "execution_count": 112,
   "metadata": {},
   "outputs": [
    {
     "name": "stdout",
     "output_type": "stream",
     "text": [
      "There are 9 categorical variables\n",
      "\n",
      "The categorical variables are :\n",
      "\n",
      " ['workclass', 'education', 'marital_status', 'occupation', 'relationship', 'race', 'sex', 'native_country', 'income']\n"
     ]
    }
   ],
   "source": [
    "categorical = [var for var in df.columns if df[var].dtype=='O']\n",
    "\n",
    "print('There are {} categorical variables\\n'.format(len(categorical)))\n",
    "\n",
    "print('The categorical variables are :\\n\\n', categorical)"
   ]
  },
  {
   "cell_type": "code",
   "execution_count": 113,
   "metadata": {},
   "outputs": [
    {
     "data": {
      "text/html": [
       "<div>\n",
       "<style scoped>\n",
       "    .dataframe tbody tr th:only-of-type {\n",
       "        vertical-align: middle;\n",
       "    }\n",
       "\n",
       "    .dataframe tbody tr th {\n",
       "        vertical-align: top;\n",
       "    }\n",
       "\n",
       "    .dataframe thead th {\n",
       "        text-align: right;\n",
       "    }\n",
       "</style>\n",
       "<table border=\"1\" class=\"dataframe\">\n",
       "  <thead>\n",
       "    <tr style=\"text-align: right;\">\n",
       "      <th></th>\n",
       "      <th>workclass</th>\n",
       "      <th>education</th>\n",
       "      <th>marital_status</th>\n",
       "      <th>occupation</th>\n",
       "      <th>relationship</th>\n",
       "      <th>race</th>\n",
       "      <th>sex</th>\n",
       "      <th>native_country</th>\n",
       "      <th>income</th>\n",
       "    </tr>\n",
       "  </thead>\n",
       "  <tbody>\n",
       "    <tr>\n",
       "      <th>0</th>\n",
       "      <td>State-gov</td>\n",
       "      <td>Bachelors</td>\n",
       "      <td>Never-married</td>\n",
       "      <td>Adm-clerical</td>\n",
       "      <td>Not-in-family</td>\n",
       "      <td>White</td>\n",
       "      <td>Male</td>\n",
       "      <td>United-States</td>\n",
       "      <td>&lt;=50K</td>\n",
       "    </tr>\n",
       "    <tr>\n",
       "      <th>1</th>\n",
       "      <td>Self-emp-not-inc</td>\n",
       "      <td>Bachelors</td>\n",
       "      <td>Married-civ-spouse</td>\n",
       "      <td>Exec-managerial</td>\n",
       "      <td>Husband</td>\n",
       "      <td>White</td>\n",
       "      <td>Male</td>\n",
       "      <td>United-States</td>\n",
       "      <td>&lt;=50K</td>\n",
       "    </tr>\n",
       "    <tr>\n",
       "      <th>2</th>\n",
       "      <td>Private</td>\n",
       "      <td>HS-grad</td>\n",
       "      <td>Divorced</td>\n",
       "      <td>Handlers-cleaners</td>\n",
       "      <td>Not-in-family</td>\n",
       "      <td>White</td>\n",
       "      <td>Male</td>\n",
       "      <td>United-States</td>\n",
       "      <td>&lt;=50K</td>\n",
       "    </tr>\n",
       "    <tr>\n",
       "      <th>3</th>\n",
       "      <td>Private</td>\n",
       "      <td>11th</td>\n",
       "      <td>Married-civ-spouse</td>\n",
       "      <td>Handlers-cleaners</td>\n",
       "      <td>Husband</td>\n",
       "      <td>Black</td>\n",
       "      <td>Male</td>\n",
       "      <td>United-States</td>\n",
       "      <td>&lt;=50K</td>\n",
       "    </tr>\n",
       "    <tr>\n",
       "      <th>4</th>\n",
       "      <td>Private</td>\n",
       "      <td>Bachelors</td>\n",
       "      <td>Married-civ-spouse</td>\n",
       "      <td>Prof-specialty</td>\n",
       "      <td>Wife</td>\n",
       "      <td>Black</td>\n",
       "      <td>Female</td>\n",
       "      <td>Cuba</td>\n",
       "      <td>&lt;=50K</td>\n",
       "    </tr>\n",
       "  </tbody>\n",
       "</table>\n",
       "</div>"
      ],
      "text/plain": [
       "           workclass   education       marital_status          occupation  \\\n",
       "0          State-gov   Bachelors        Never-married        Adm-clerical   \n",
       "1   Self-emp-not-inc   Bachelors   Married-civ-spouse     Exec-managerial   \n",
       "2            Private     HS-grad             Divorced   Handlers-cleaners   \n",
       "3            Private        11th   Married-civ-spouse   Handlers-cleaners   \n",
       "4            Private   Bachelors   Married-civ-spouse      Prof-specialty   \n",
       "\n",
       "     relationship    race      sex  native_country  income  \n",
       "0   Not-in-family   White     Male   United-States   <=50K  \n",
       "1         Husband   White     Male   United-States   <=50K  \n",
       "2   Not-in-family   White     Male   United-States   <=50K  \n",
       "3         Husband   Black     Male   United-States   <=50K  \n",
       "4            Wife   Black   Female            Cuba   <=50K  "
      ]
     },
     "execution_count": 113,
     "metadata": {},
     "output_type": "execute_result"
    }
   ],
   "source": [
    "df[categorical].head()"
   ]
  },
  {
   "cell_type": "code",
   "execution_count": 114,
   "metadata": {},
   "outputs": [
    {
     "name": "stdout",
     "output_type": "stream",
     "text": [
      " Private             22696\n",
      " Self-emp-not-inc     2541\n",
      " Local-gov            2093\n",
      " ?                    1836\n",
      " State-gov            1298\n",
      " Self-emp-inc         1116\n",
      " Federal-gov           960\n",
      " Without-pay            14\n",
      " Never-worked            7\n",
      "Name: workclass, dtype: int64\n",
      " HS-grad         10501\n",
      " Some-college     7291\n",
      " Bachelors        5355\n",
      " Masters          1723\n",
      " Assoc-voc        1382\n",
      " 11th             1175\n",
      " Assoc-acdm       1067\n",
      " 10th              933\n",
      " 7th-8th           646\n",
      " Prof-school       576\n",
      " 9th               514\n",
      " 12th              433\n",
      " Doctorate         413\n",
      " 5th-6th           333\n",
      " 1st-4th           168\n",
      " Preschool          51\n",
      "Name: education, dtype: int64\n",
      " Married-civ-spouse       14976\n",
      " Never-married            10683\n",
      " Divorced                  4443\n",
      " Separated                 1025\n",
      " Widowed                    993\n",
      " Married-spouse-absent      418\n",
      " Married-AF-spouse           23\n",
      "Name: marital_status, dtype: int64\n",
      " Prof-specialty       4140\n",
      " Craft-repair         4099\n",
      " Exec-managerial      4066\n",
      " Adm-clerical         3770\n",
      " Sales                3650\n",
      " Other-service        3295\n",
      " Machine-op-inspct    2002\n",
      " ?                    1843\n",
      " Transport-moving     1597\n",
      " Handlers-cleaners    1370\n",
      " Farming-fishing       994\n",
      " Tech-support          928\n",
      " Protective-serv       649\n",
      " Priv-house-serv       149\n",
      " Armed-Forces            9\n",
      "Name: occupation, dtype: int64\n",
      " Husband           13193\n",
      " Not-in-family      8305\n",
      " Own-child          5068\n",
      " Unmarried          3446\n",
      " Wife               1568\n",
      " Other-relative      981\n",
      "Name: relationship, dtype: int64\n",
      " White                 27816\n",
      " Black                  3124\n",
      " Asian-Pac-Islander     1039\n",
      " Amer-Indian-Eskimo      311\n",
      " Other                   271\n",
      "Name: race, dtype: int64\n",
      " Male      21790\n",
      " Female    10771\n",
      "Name: sex, dtype: int64\n",
      " United-States                 29170\n",
      " Mexico                          643\n",
      " ?                               583\n",
      " Philippines                     198\n",
      " Germany                         137\n",
      " Canada                          121\n",
      " Puerto-Rico                     114\n",
      " El-Salvador                     106\n",
      " India                           100\n",
      " Cuba                             95\n",
      " England                          90\n",
      " Jamaica                          81\n",
      " South                            80\n",
      " China                            75\n",
      " Italy                            73\n",
      " Dominican-Republic               70\n",
      " Vietnam                          67\n",
      " Guatemala                        64\n",
      " Japan                            62\n",
      " Poland                           60\n",
      " Columbia                         59\n",
      " Taiwan                           51\n",
      " Haiti                            44\n",
      " Iran                             43\n",
      " Portugal                         37\n",
      " Nicaragua                        34\n",
      " Peru                             31\n",
      " France                           29\n",
      " Greece                           29\n",
      " Ecuador                          28\n",
      " Ireland                          24\n",
      " Hong                             20\n",
      " Cambodia                         19\n",
      " Trinadad&Tobago                  19\n",
      " Thailand                         18\n",
      " Laos                             18\n",
      " Yugoslavia                       16\n",
      " Outlying-US(Guam-USVI-etc)       14\n",
      " Honduras                         13\n",
      " Hungary                          13\n",
      " Scotland                         12\n",
      " Holand-Netherlands                1\n",
      "Name: native_country, dtype: int64\n",
      " <=50K    24720\n",
      " >50K      7841\n",
      "Name: income, dtype: int64\n"
     ]
    }
   ],
   "source": [
    "for var in categorical: \n",
    "    \n",
    "    print(df[var].value_counts())"
   ]
  },
  {
   "cell_type": "code",
   "execution_count": 115,
   "metadata": {},
   "outputs": [],
   "source": [
    "df['workclass'].replace(' ?', np.NaN, inplace=True)"
   ]
  },
  {
   "cell_type": "code",
   "execution_count": 116,
   "metadata": {},
   "outputs": [],
   "source": [
    "df['occupation'].replace(' ?', np.NaN, inplace=True)"
   ]
  },
  {
   "cell_type": "code",
   "execution_count": 117,
   "metadata": {},
   "outputs": [],
   "source": [
    "df['native_country'].replace(' ?', np.NaN, inplace=True)"
   ]
  },
  {
   "cell_type": "code",
   "execution_count": 118,
   "metadata": {
    "scrolled": true
   },
   "outputs": [
    {
     "data": {
      "text/plain": [
       "workclass         1836\n",
       "education            0\n",
       "marital_status       0\n",
       "occupation        1843\n",
       "relationship         0\n",
       "race                 0\n",
       "sex                  0\n",
       "native_country     583\n",
       "income               0\n",
       "dtype: int64"
      ]
     },
     "execution_count": 118,
     "metadata": {},
     "output_type": "execute_result"
    }
   ],
   "source": [
    "df[categorical].isnull().sum()"
   ]
  },
  {
   "cell_type": "code",
   "execution_count": 121,
   "metadata": {},
   "outputs": [],
   "source": [
    "df['workclass'].fillna(df['workclass'].mode()[0], inplace=True)\n",
    "df['occupation'].fillna(df['occupation'].mode()[0], inplace=True)\n",
    "df['native_country'].fillna(df['native_country'].mode()[0], inplace=True) "
   ]
  },
  {
   "cell_type": "code",
   "execution_count": 124,
   "metadata": {},
   "outputs": [
    {
     "name": "stdout",
     "output_type": "stream",
     "text": [
      "[0 0 0 ... 0 0 1]\n"
     ]
    }
   ],
   "source": [
    "from sklearn.preprocessing import LabelEncoder\n",
    "\n",
    "encoder = LabelEncoder()\n",
    "encoder.fit(df['income'])\n",
    "labels = encoder.transform(df['income'])\n",
    "print(labels)"
   ]
  },
  {
   "cell_type": "code",
   "execution_count": null,
   "metadata": {},
   "outputs": [],
   "source": []
  },
  {
   "cell_type": "code",
   "execution_count": 125,
   "metadata": {},
   "outputs": [],
   "source": [
    "df['income'] = labels"
   ]
  },
  {
   "cell_type": "code",
   "execution_count": 126,
   "metadata": {},
   "outputs": [],
   "source": [
    "X = df.drop(['income'], axis=1)\n",
    "\n",
    "y = df['income']"
   ]
  },
  {
   "cell_type": "code",
   "execution_count": 217,
   "metadata": {},
   "outputs": [
    {
     "data": {
      "text/plain": [
       "0    24720\n",
       "1     7841\n",
       "Name: income, dtype: int64"
      ]
     },
     "execution_count": 217,
     "metadata": {},
     "output_type": "execute_result"
    }
   ],
   "source": [
    "y.value_counts()"
   ]
  },
  {
   "cell_type": "code",
   "execution_count": 128,
   "metadata": {},
   "outputs": [],
   "source": [
    "X_train, X_test, y_train, y_test = train_test_split(X, y, test_size = 0.3, random_state = 0)"
   ]
  },
  {
   "cell_type": "code",
   "execution_count": 129,
   "metadata": {},
   "outputs": [
    {
     "data": {
      "text/plain": [
       "((22792, 14), (9769, 14))"
      ]
     },
     "execution_count": 129,
     "metadata": {},
     "output_type": "execute_result"
    }
   ],
   "source": [
    "X_train.shape, X_test.shape"
   ]
  },
  {
   "cell_type": "code",
   "execution_count": 130,
   "metadata": {},
   "outputs": [
    {
     "data": {
      "text/plain": [
       "['workclass',\n",
       " 'education',\n",
       " 'marital_status',\n",
       " 'occupation',\n",
       " 'relationship',\n",
       " 'race',\n",
       " 'sex',\n",
       " 'native_country']"
      ]
     },
     "execution_count": 130,
     "metadata": {},
     "output_type": "execute_result"
    }
   ],
   "source": [
    "categorical = [col for col in X_train.columns if X_train[col].dtypes == 'O']\n",
    "\n",
    "categorical"
   ]
  },
  {
   "cell_type": "code",
   "execution_count": 131,
   "metadata": {
    "scrolled": true
   },
   "outputs": [
    {
     "data": {
      "text/plain": [
       "['age',\n",
       " 'fnlwgt',\n",
       " 'education_num',\n",
       " 'capital_gain',\n",
       " 'capital_loss',\n",
       " 'hours_per_week']"
      ]
     },
     "execution_count": 131,
     "metadata": {},
     "output_type": "execute_result"
    }
   ],
   "source": [
    "numerical = [col for col in X_train.columns if X_train[col].dtypes != 'O']\n",
    "\n",
    "numerical"
   ]
  },
  {
   "cell_type": "code",
   "execution_count": 132,
   "metadata": {},
   "outputs": [
    {
     "data": {
      "text/plain": [
       "workclass         0\n",
       "education         0\n",
       "marital_status    0\n",
       "occupation        0\n",
       "relationship      0\n",
       "race              0\n",
       "sex               0\n",
       "native_country    0\n",
       "dtype: int64"
      ]
     },
     "execution_count": 132,
     "metadata": {},
     "output_type": "execute_result"
    }
   ],
   "source": [
    "X_train[categorical].isnull().sum()"
   ]
  },
  {
   "cell_type": "code",
   "execution_count": 133,
   "metadata": {},
   "outputs": [
    {
     "data": {
      "text/plain": [
       "workclass         0\n",
       "education         0\n",
       "marital_status    0\n",
       "occupation        0\n",
       "relationship      0\n",
       "race              0\n",
       "sex               0\n",
       "native_country    0\n",
       "dtype: int64"
      ]
     },
     "execution_count": 133,
     "metadata": {},
     "output_type": "execute_result"
    }
   ],
   "source": [
    "X_test[categorical].isnull().sum()"
   ]
  },
  {
   "cell_type": "code",
   "execution_count": 134,
   "metadata": {},
   "outputs": [
    {
     "data": {
      "text/html": [
       "<div>\n",
       "<style scoped>\n",
       "    .dataframe tbody tr th:only-of-type {\n",
       "        vertical-align: middle;\n",
       "    }\n",
       "\n",
       "    .dataframe tbody tr th {\n",
       "        vertical-align: top;\n",
       "    }\n",
       "\n",
       "    .dataframe thead th {\n",
       "        text-align: right;\n",
       "    }\n",
       "</style>\n",
       "<table border=\"1\" class=\"dataframe\">\n",
       "  <thead>\n",
       "    <tr style=\"text-align: right;\">\n",
       "      <th></th>\n",
       "      <th>workclass</th>\n",
       "      <th>education</th>\n",
       "      <th>marital_status</th>\n",
       "      <th>occupation</th>\n",
       "      <th>relationship</th>\n",
       "      <th>race</th>\n",
       "      <th>sex</th>\n",
       "      <th>native_country</th>\n",
       "    </tr>\n",
       "  </thead>\n",
       "  <tbody>\n",
       "    <tr>\n",
       "      <th>32098</th>\n",
       "      <td>Private</td>\n",
       "      <td>HS-grad</td>\n",
       "      <td>Married-civ-spouse</td>\n",
       "      <td>Craft-repair</td>\n",
       "      <td>Husband</td>\n",
       "      <td>White</td>\n",
       "      <td>Male</td>\n",
       "      <td>United-States</td>\n",
       "    </tr>\n",
       "    <tr>\n",
       "      <th>25206</th>\n",
       "      <td>State-gov</td>\n",
       "      <td>HS-grad</td>\n",
       "      <td>Divorced</td>\n",
       "      <td>Adm-clerical</td>\n",
       "      <td>Unmarried</td>\n",
       "      <td>White</td>\n",
       "      <td>Female</td>\n",
       "      <td>United-States</td>\n",
       "    </tr>\n",
       "    <tr>\n",
       "      <th>23491</th>\n",
       "      <td>Private</td>\n",
       "      <td>Some-college</td>\n",
       "      <td>Married-civ-spouse</td>\n",
       "      <td>Sales</td>\n",
       "      <td>Husband</td>\n",
       "      <td>White</td>\n",
       "      <td>Male</td>\n",
       "      <td>United-States</td>\n",
       "    </tr>\n",
       "    <tr>\n",
       "      <th>12367</th>\n",
       "      <td>Private</td>\n",
       "      <td>HS-grad</td>\n",
       "      <td>Never-married</td>\n",
       "      <td>Craft-repair</td>\n",
       "      <td>Not-in-family</td>\n",
       "      <td>White</td>\n",
       "      <td>Male</td>\n",
       "      <td>Guatemala</td>\n",
       "    </tr>\n",
       "    <tr>\n",
       "      <th>7054</th>\n",
       "      <td>Private</td>\n",
       "      <td>7th-8th</td>\n",
       "      <td>Never-married</td>\n",
       "      <td>Craft-repair</td>\n",
       "      <td>Not-in-family</td>\n",
       "      <td>White</td>\n",
       "      <td>Male</td>\n",
       "      <td>Germany</td>\n",
       "    </tr>\n",
       "  </tbody>\n",
       "</table>\n",
       "</div>"
      ],
      "text/plain": [
       "        workclass      education       marital_status     occupation  \\\n",
       "32098     Private        HS-grad   Married-civ-spouse   Craft-repair   \n",
       "25206   State-gov        HS-grad             Divorced   Adm-clerical   \n",
       "23491     Private   Some-college   Married-civ-spouse          Sales   \n",
       "12367     Private        HS-grad        Never-married   Craft-repair   \n",
       "7054      Private        7th-8th        Never-married   Craft-repair   \n",
       "\n",
       "         relationship    race      sex  native_country  \n",
       "32098         Husband   White     Male   United-States  \n",
       "25206       Unmarried   White   Female   United-States  \n",
       "23491         Husband   White     Male   United-States  \n",
       "12367   Not-in-family   White     Male       Guatemala  \n",
       "7054    Not-in-family   White     Male         Germany  "
      ]
     },
     "execution_count": 134,
     "metadata": {},
     "output_type": "execute_result"
    }
   ],
   "source": [
    "X_train[categorical].head()"
   ]
  },
  {
   "cell_type": "code",
   "execution_count": 135,
   "metadata": {},
   "outputs": [],
   "source": [
    "import category_encoders as ce"
   ]
  },
  {
   "cell_type": "code",
   "execution_count": 136,
   "metadata": {},
   "outputs": [],
   "source": [
    "encoder = ce.OneHotEncoder(cols=['workclass', 'education', 'marital_status', 'occupation', 'relationship', \n",
    "                                 'race', 'sex', 'native_country'])\n",
    "\n",
    "X_train = encoder.fit_transform(X_train)\n",
    "\n",
    "X_test = encoder.transform(X_test)"
   ]
  },
  {
   "cell_type": "code",
   "execution_count": 137,
   "metadata": {},
   "outputs": [
    {
     "data": {
      "text/html": [
       "<div>\n",
       "<style scoped>\n",
       "    .dataframe tbody tr th:only-of-type {\n",
       "        vertical-align: middle;\n",
       "    }\n",
       "\n",
       "    .dataframe tbody tr th {\n",
       "        vertical-align: top;\n",
       "    }\n",
       "\n",
       "    .dataframe thead th {\n",
       "        text-align: right;\n",
       "    }\n",
       "</style>\n",
       "<table border=\"1\" class=\"dataframe\">\n",
       "  <thead>\n",
       "    <tr style=\"text-align: right;\">\n",
       "      <th></th>\n",
       "      <th>age</th>\n",
       "      <th>workclass_1</th>\n",
       "      <th>workclass_2</th>\n",
       "      <th>workclass_3</th>\n",
       "      <th>workclass_4</th>\n",
       "      <th>workclass_5</th>\n",
       "      <th>workclass_6</th>\n",
       "      <th>workclass_7</th>\n",
       "      <th>workclass_8</th>\n",
       "      <th>fnlwgt</th>\n",
       "      <th>...</th>\n",
       "      <th>native_country_32</th>\n",
       "      <th>native_country_33</th>\n",
       "      <th>native_country_34</th>\n",
       "      <th>native_country_35</th>\n",
       "      <th>native_country_36</th>\n",
       "      <th>native_country_37</th>\n",
       "      <th>native_country_38</th>\n",
       "      <th>native_country_39</th>\n",
       "      <th>native_country_40</th>\n",
       "      <th>native_country_41</th>\n",
       "    </tr>\n",
       "  </thead>\n",
       "  <tbody>\n",
       "    <tr>\n",
       "      <th>32098</th>\n",
       "      <td>45</td>\n",
       "      <td>1</td>\n",
       "      <td>0</td>\n",
       "      <td>0</td>\n",
       "      <td>0</td>\n",
       "      <td>0</td>\n",
       "      <td>0</td>\n",
       "      <td>0</td>\n",
       "      <td>0</td>\n",
       "      <td>170871</td>\n",
       "      <td>...</td>\n",
       "      <td>0</td>\n",
       "      <td>0</td>\n",
       "      <td>0</td>\n",
       "      <td>0</td>\n",
       "      <td>0</td>\n",
       "      <td>0</td>\n",
       "      <td>0</td>\n",
       "      <td>0</td>\n",
       "      <td>0</td>\n",
       "      <td>0</td>\n",
       "    </tr>\n",
       "    <tr>\n",
       "      <th>25206</th>\n",
       "      <td>47</td>\n",
       "      <td>0</td>\n",
       "      <td>1</td>\n",
       "      <td>0</td>\n",
       "      <td>0</td>\n",
       "      <td>0</td>\n",
       "      <td>0</td>\n",
       "      <td>0</td>\n",
       "      <td>0</td>\n",
       "      <td>108890</td>\n",
       "      <td>...</td>\n",
       "      <td>0</td>\n",
       "      <td>0</td>\n",
       "      <td>0</td>\n",
       "      <td>0</td>\n",
       "      <td>0</td>\n",
       "      <td>0</td>\n",
       "      <td>0</td>\n",
       "      <td>0</td>\n",
       "      <td>0</td>\n",
       "      <td>0</td>\n",
       "    </tr>\n",
       "    <tr>\n",
       "      <th>23491</th>\n",
       "      <td>48</td>\n",
       "      <td>1</td>\n",
       "      <td>0</td>\n",
       "      <td>0</td>\n",
       "      <td>0</td>\n",
       "      <td>0</td>\n",
       "      <td>0</td>\n",
       "      <td>0</td>\n",
       "      <td>0</td>\n",
       "      <td>187505</td>\n",
       "      <td>...</td>\n",
       "      <td>0</td>\n",
       "      <td>0</td>\n",
       "      <td>0</td>\n",
       "      <td>0</td>\n",
       "      <td>0</td>\n",
       "      <td>0</td>\n",
       "      <td>0</td>\n",
       "      <td>0</td>\n",
       "      <td>0</td>\n",
       "      <td>0</td>\n",
       "    </tr>\n",
       "    <tr>\n",
       "      <th>12367</th>\n",
       "      <td>29</td>\n",
       "      <td>1</td>\n",
       "      <td>0</td>\n",
       "      <td>0</td>\n",
       "      <td>0</td>\n",
       "      <td>0</td>\n",
       "      <td>0</td>\n",
       "      <td>0</td>\n",
       "      <td>0</td>\n",
       "      <td>145592</td>\n",
       "      <td>...</td>\n",
       "      <td>0</td>\n",
       "      <td>0</td>\n",
       "      <td>0</td>\n",
       "      <td>0</td>\n",
       "      <td>0</td>\n",
       "      <td>0</td>\n",
       "      <td>0</td>\n",
       "      <td>0</td>\n",
       "      <td>0</td>\n",
       "      <td>0</td>\n",
       "    </tr>\n",
       "    <tr>\n",
       "      <th>7054</th>\n",
       "      <td>23</td>\n",
       "      <td>1</td>\n",
       "      <td>0</td>\n",
       "      <td>0</td>\n",
       "      <td>0</td>\n",
       "      <td>0</td>\n",
       "      <td>0</td>\n",
       "      <td>0</td>\n",
       "      <td>0</td>\n",
       "      <td>203003</td>\n",
       "      <td>...</td>\n",
       "      <td>0</td>\n",
       "      <td>0</td>\n",
       "      <td>0</td>\n",
       "      <td>0</td>\n",
       "      <td>0</td>\n",
       "      <td>0</td>\n",
       "      <td>0</td>\n",
       "      <td>0</td>\n",
       "      <td>0</td>\n",
       "      <td>0</td>\n",
       "    </tr>\n",
       "  </tbody>\n",
       "</table>\n",
       "<p>5 rows × 105 columns</p>\n",
       "</div>"
      ],
      "text/plain": [
       "       age  workclass_1  workclass_2  workclass_3  workclass_4  workclass_5  \\\n",
       "32098   45            1            0            0            0            0   \n",
       "25206   47            0            1            0            0            0   \n",
       "23491   48            1            0            0            0            0   \n",
       "12367   29            1            0            0            0            0   \n",
       "7054    23            1            0            0            0            0   \n",
       "\n",
       "       workclass_6  workclass_7  workclass_8  fnlwgt  ...  native_country_32  \\\n",
       "32098            0            0            0  170871  ...                  0   \n",
       "25206            0            0            0  108890  ...                  0   \n",
       "23491            0            0            0  187505  ...                  0   \n",
       "12367            0            0            0  145592  ...                  0   \n",
       "7054             0            0            0  203003  ...                  0   \n",
       "\n",
       "       native_country_33  native_country_34  native_country_35  \\\n",
       "32098                  0                  0                  0   \n",
       "25206                  0                  0                  0   \n",
       "23491                  0                  0                  0   \n",
       "12367                  0                  0                  0   \n",
       "7054                   0                  0                  0   \n",
       "\n",
       "       native_country_36  native_country_37  native_country_38  \\\n",
       "32098                  0                  0                  0   \n",
       "25206                  0                  0                  0   \n",
       "23491                  0                  0                  0   \n",
       "12367                  0                  0                  0   \n",
       "7054                   0                  0                  0   \n",
       "\n",
       "       native_country_39  native_country_40  native_country_41  \n",
       "32098                  0                  0                  0  \n",
       "25206                  0                  0                  0  \n",
       "23491                  0                  0                  0  \n",
       "12367                  0                  0                  0  \n",
       "7054                   0                  0                  0  \n",
       "\n",
       "[5 rows x 105 columns]"
      ]
     },
     "execution_count": 137,
     "metadata": {},
     "output_type": "execute_result"
    }
   ],
   "source": [
    "X_train.head()"
   ]
  },
  {
   "cell_type": "code",
   "execution_count": 138,
   "metadata": {},
   "outputs": [
    {
     "data": {
      "text/plain": [
       "(22792, 105)"
      ]
     },
     "execution_count": 138,
     "metadata": {},
     "output_type": "execute_result"
    }
   ],
   "source": [
    "X_train.shape"
   ]
  },
  {
   "cell_type": "code",
   "execution_count": 139,
   "metadata": {},
   "outputs": [
    {
     "data": {
      "text/html": [
       "<div>\n",
       "<style scoped>\n",
       "    .dataframe tbody tr th:only-of-type {\n",
       "        vertical-align: middle;\n",
       "    }\n",
       "\n",
       "    .dataframe tbody tr th {\n",
       "        vertical-align: top;\n",
       "    }\n",
       "\n",
       "    .dataframe thead th {\n",
       "        text-align: right;\n",
       "    }\n",
       "</style>\n",
       "<table border=\"1\" class=\"dataframe\">\n",
       "  <thead>\n",
       "    <tr style=\"text-align: right;\">\n",
       "      <th></th>\n",
       "      <th>age</th>\n",
       "      <th>workclass_1</th>\n",
       "      <th>workclass_2</th>\n",
       "      <th>workclass_3</th>\n",
       "      <th>workclass_4</th>\n",
       "      <th>workclass_5</th>\n",
       "      <th>workclass_6</th>\n",
       "      <th>workclass_7</th>\n",
       "      <th>workclass_8</th>\n",
       "      <th>fnlwgt</th>\n",
       "      <th>...</th>\n",
       "      <th>native_country_32</th>\n",
       "      <th>native_country_33</th>\n",
       "      <th>native_country_34</th>\n",
       "      <th>native_country_35</th>\n",
       "      <th>native_country_36</th>\n",
       "      <th>native_country_37</th>\n",
       "      <th>native_country_38</th>\n",
       "      <th>native_country_39</th>\n",
       "      <th>native_country_40</th>\n",
       "      <th>native_country_41</th>\n",
       "    </tr>\n",
       "  </thead>\n",
       "  <tbody>\n",
       "    <tr>\n",
       "      <th>22278</th>\n",
       "      <td>27</td>\n",
       "      <td>1</td>\n",
       "      <td>0</td>\n",
       "      <td>0</td>\n",
       "      <td>0</td>\n",
       "      <td>0</td>\n",
       "      <td>0</td>\n",
       "      <td>0</td>\n",
       "      <td>0</td>\n",
       "      <td>177119</td>\n",
       "      <td>...</td>\n",
       "      <td>0</td>\n",
       "      <td>0</td>\n",
       "      <td>0</td>\n",
       "      <td>0</td>\n",
       "      <td>0</td>\n",
       "      <td>0</td>\n",
       "      <td>0</td>\n",
       "      <td>0</td>\n",
       "      <td>0</td>\n",
       "      <td>0</td>\n",
       "    </tr>\n",
       "    <tr>\n",
       "      <th>8950</th>\n",
       "      <td>27</td>\n",
       "      <td>1</td>\n",
       "      <td>0</td>\n",
       "      <td>0</td>\n",
       "      <td>0</td>\n",
       "      <td>0</td>\n",
       "      <td>0</td>\n",
       "      <td>0</td>\n",
       "      <td>0</td>\n",
       "      <td>216481</td>\n",
       "      <td>...</td>\n",
       "      <td>0</td>\n",
       "      <td>0</td>\n",
       "      <td>0</td>\n",
       "      <td>0</td>\n",
       "      <td>0</td>\n",
       "      <td>0</td>\n",
       "      <td>0</td>\n",
       "      <td>0</td>\n",
       "      <td>0</td>\n",
       "      <td>0</td>\n",
       "    </tr>\n",
       "    <tr>\n",
       "      <th>7838</th>\n",
       "      <td>25</td>\n",
       "      <td>1</td>\n",
       "      <td>0</td>\n",
       "      <td>0</td>\n",
       "      <td>0</td>\n",
       "      <td>0</td>\n",
       "      <td>0</td>\n",
       "      <td>0</td>\n",
       "      <td>0</td>\n",
       "      <td>256263</td>\n",
       "      <td>...</td>\n",
       "      <td>0</td>\n",
       "      <td>0</td>\n",
       "      <td>0</td>\n",
       "      <td>0</td>\n",
       "      <td>0</td>\n",
       "      <td>0</td>\n",
       "      <td>0</td>\n",
       "      <td>0</td>\n",
       "      <td>0</td>\n",
       "      <td>0</td>\n",
       "    </tr>\n",
       "    <tr>\n",
       "      <th>16505</th>\n",
       "      <td>46</td>\n",
       "      <td>1</td>\n",
       "      <td>0</td>\n",
       "      <td>0</td>\n",
       "      <td>0</td>\n",
       "      <td>0</td>\n",
       "      <td>0</td>\n",
       "      <td>0</td>\n",
       "      <td>0</td>\n",
       "      <td>147640</td>\n",
       "      <td>...</td>\n",
       "      <td>0</td>\n",
       "      <td>0</td>\n",
       "      <td>0</td>\n",
       "      <td>0</td>\n",
       "      <td>0</td>\n",
       "      <td>0</td>\n",
       "      <td>0</td>\n",
       "      <td>0</td>\n",
       "      <td>0</td>\n",
       "      <td>0</td>\n",
       "    </tr>\n",
       "    <tr>\n",
       "      <th>19140</th>\n",
       "      <td>45</td>\n",
       "      <td>1</td>\n",
       "      <td>0</td>\n",
       "      <td>0</td>\n",
       "      <td>0</td>\n",
       "      <td>0</td>\n",
       "      <td>0</td>\n",
       "      <td>0</td>\n",
       "      <td>0</td>\n",
       "      <td>172822</td>\n",
       "      <td>...</td>\n",
       "      <td>0</td>\n",
       "      <td>0</td>\n",
       "      <td>0</td>\n",
       "      <td>0</td>\n",
       "      <td>0</td>\n",
       "      <td>0</td>\n",
       "      <td>0</td>\n",
       "      <td>0</td>\n",
       "      <td>0</td>\n",
       "      <td>0</td>\n",
       "    </tr>\n",
       "  </tbody>\n",
       "</table>\n",
       "<p>5 rows × 105 columns</p>\n",
       "</div>"
      ],
      "text/plain": [
       "       age  workclass_1  workclass_2  workclass_3  workclass_4  workclass_5  \\\n",
       "22278   27            1            0            0            0            0   \n",
       "8950    27            1            0            0            0            0   \n",
       "7838    25            1            0            0            0            0   \n",
       "16505   46            1            0            0            0            0   \n",
       "19140   45            1            0            0            0            0   \n",
       "\n",
       "       workclass_6  workclass_7  workclass_8  fnlwgt  ...  native_country_32  \\\n",
       "22278            0            0            0  177119  ...                  0   \n",
       "8950             0            0            0  216481  ...                  0   \n",
       "7838             0            0            0  256263  ...                  0   \n",
       "16505            0            0            0  147640  ...                  0   \n",
       "19140            0            0            0  172822  ...                  0   \n",
       "\n",
       "       native_country_33  native_country_34  native_country_35  \\\n",
       "22278                  0                  0                  0   \n",
       "8950                   0                  0                  0   \n",
       "7838                   0                  0                  0   \n",
       "16505                  0                  0                  0   \n",
       "19140                  0                  0                  0   \n",
       "\n",
       "       native_country_36  native_country_37  native_country_38  \\\n",
       "22278                  0                  0                  0   \n",
       "8950                   0                  0                  0   \n",
       "7838                   0                  0                  0   \n",
       "16505                  0                  0                  0   \n",
       "19140                  0                  0                  0   \n",
       "\n",
       "       native_country_39  native_country_40  native_country_41  \n",
       "22278                  0                  0                  0  \n",
       "8950                   0                  0                  0  \n",
       "7838                   0                  0                  0  \n",
       "16505                  0                  0                  0  \n",
       "19140                  0                  0                  0  \n",
       "\n",
       "[5 rows x 105 columns]"
      ]
     },
     "execution_count": 139,
     "metadata": {},
     "output_type": "execute_result"
    }
   ],
   "source": [
    "X_test.head()"
   ]
  },
  {
   "cell_type": "code",
   "execution_count": 140,
   "metadata": {},
   "outputs": [
    {
     "data": {
      "text/plain": [
       "(9769, 105)"
      ]
     },
     "execution_count": 140,
     "metadata": {},
     "output_type": "execute_result"
    }
   ],
   "source": [
    "X_test.shape"
   ]
  },
  {
   "cell_type": "code",
   "execution_count": 141,
   "metadata": {},
   "outputs": [],
   "source": [
    "cols = X_train.columns"
   ]
  },
  {
   "cell_type": "code",
   "execution_count": 142,
   "metadata": {},
   "outputs": [],
   "source": [
    "from sklearn.preprocessing import RobustScaler\n",
    "\n",
    "scaler = RobustScaler()\n",
    "\n",
    "X_train = scaler.fit_transform(X_train)\n",
    "\n",
    "X_test = scaler.transform(X_test)"
   ]
  },
  {
   "cell_type": "code",
   "execution_count": 143,
   "metadata": {},
   "outputs": [],
   "source": [
    "X_train = pd.DataFrame(X_train, columns=[cols])"
   ]
  },
  {
   "cell_type": "code",
   "execution_count": 144,
   "metadata": {},
   "outputs": [],
   "source": [
    "X_test = pd.DataFrame(X_test, columns=[cols])"
   ]
  },
  {
   "cell_type": "code",
   "execution_count": 145,
   "metadata": {},
   "outputs": [],
   "source": [
    "def get_clf_eval(y_test, pred=None, pred_proba=None):\n",
    "    confusion = confusion_matrix( y_test, pred)\n",
    "    accuracy = accuracy_score(y_test , pred)\n",
    "    precision = precision_score(y_test , pred)\n",
    "    recall = recall_score(y_test , pred)\n",
    "    f1 = f1_score(y_test,pred)\n",
    "    # ROC-AUC 추가 \n",
    "    roc_auc = roc_auc_score(y_test, pred_proba)\n",
    "    print('오차 행렬')\n",
    "    print(confusion)\n",
    "    # ROC-AUC print 추가\n",
    "    print('정확도: {0:.4f}, 정밀도: {1:.4f}, 재현율: {2:.4f},\\\n",
    "    F1: {3:.4f}, AUC:{4:.4f}'.format(accuracy, precision, recall, f1, roc_auc))"
   ]
  },
  {
   "cell_type": "code",
   "execution_count": 146,
   "metadata": {},
   "outputs": [],
   "source": [
    "def get_model_train_eval(model, ftr_train=None, ftr_test=None, tgt_train=None, tgt_test=None):\n",
    "    model.fit(ftr_train, tgt_train)\n",
    "    pred = model.predict(ftr_test)\n",
    "    pred_proba = model.predict_proba(ftr_test)[:, 1]\n",
    "    get_clf_eval(tgt_test, pred, pred_proba)"
   ]
  },
  {
   "cell_type": "markdown",
   "metadata": {},
   "source": [
    "## 모델 생성"
   ]
  },
  {
   "cell_type": "markdown",
   "metadata": {},
   "source": [
    "## RF"
   ]
  },
  {
   "cell_type": "code",
   "execution_count": 147,
   "metadata": {},
   "outputs": [
    {
     "name": "stdout",
     "output_type": "stream",
     "text": [
      "최적 하이퍼 파라미터:\n",
      " {'max_depth': 14, 'min_samples_leaf': 1, 'min_samples_split': 16, 'n_estimators': 200}\n",
      "최고 예측 정확도: 0.8577\n"
     ]
    }
   ],
   "source": [
    "from sklearn.model_selection import GridSearchCV\n",
    "\n",
    "params = {\n",
    "    'n_estimators':[200],\n",
    "    'max_depth' : [10,12,14], \n",
    "    'min_samples_leaf' : [1 ],\n",
    "    'min_samples_split' : [12,14,16]\n",
    "}\n",
    "# RandomForestClassifier 객체 생성 후 GridSearchCV 수행\n",
    "rf_clf = RandomForestClassifier(random_state=0, n_jobs=-1)\n",
    "grid_rf = GridSearchCV(rf_clf , param_grid=params , cv=2, n_jobs=-1 )\n",
    "grid_rf.fit(X_train , y_train)\n",
    "\n",
    "print('최적 하이퍼 파라미터:\\n', grid_rf.best_params_)\n",
    "print('최고 예측 정확도: {0:.4f}'.format(grid_rf.best_score_))"
   ]
  },
  {
   "cell_type": "code",
   "execution_count": 148,
   "metadata": {},
   "outputs": [
    {
     "name": "stdout",
     "output_type": "stream",
     "text": [
      "오차 행렬\n",
      "[[7050  357]\n",
      " [1006 1356]]\n",
      "정확도: 0.8605, 정밀도: 0.7916, 재현율: 0.5741,    F1: 0.6655, AUC:0.9149\n"
     ]
    }
   ],
   "source": [
    "best_rf = grid_rf.best_estimator_\n",
    "best_rf.fit(X_train,y_train)\n",
    "best_pred = best_rf.predict(X_test)\n",
    "get_model_train_eval(best_rf, ftr_train=X_train, ftr_test=X_test, tgt_train=y_train, tgt_test=y_test)\n"
   ]
  },
  {
   "cell_type": "code",
   "execution_count": 151,
   "metadata": {},
   "outputs": [
    {
     "data": {
      "text/plain": [
       "age               0\n",
       "workclass         0\n",
       "fnlwgt            0\n",
       "education         0\n",
       "education_num     0\n",
       "marital_status    0\n",
       "occupation        0\n",
       "relationship      0\n",
       "race              0\n",
       "sex               0\n",
       "capital_gain      0\n",
       "capital_loss      0\n",
       "hours_per_week    0\n",
       "native_country    0\n",
       "income            0\n",
       "dtype: int64"
      ]
     },
     "execution_count": 151,
     "metadata": {},
     "output_type": "execute_result"
    }
   ],
   "source": [
    "df.isna().sum()"
   ]
  },
  {
   "cell_type": "code",
   "execution_count": 153,
   "metadata": {},
   "outputs": [
    {
     "data": {
      "text/plain": [
       "age                  0.067023\n",
       "workclass_1          0.004663\n",
       "workclass_2          0.001866\n",
       "workclass_3          0.005079\n",
       "workclass_4          0.004211\n",
       "                       ...   \n",
       "native_country_37    0.000022\n",
       "native_country_38    0.000130\n",
       "native_country_39    0.000030\n",
       "native_country_40    0.000033\n",
       "native_country_41    0.000000\n",
       "Length: 105, dtype: float64"
      ]
     },
     "execution_count": 153,
     "metadata": {},
     "output_type": "execute_result"
    }
   ],
   "source": [
    "ftr_importance"
   ]
  },
  {
   "cell_type": "code",
   "execution_count": 213,
   "metadata": {
    "scrolled": true
   },
   "outputs": [
    {
     "data": {
      "text/plain": [
       "capital_gain        0.148797\n",
       "marital_status_1    0.119257\n",
       "education_num       0.108499\n",
       "relationship_1      0.091756\n",
       "age                 0.067023\n",
       "hours_per_week      0.053384\n",
       "marital_status_3    0.048021\n",
       "capital_loss        0.039002\n",
       "occupation_9        0.026589\n",
       "education_4         0.023444\n",
       "relationship_6      0.021630\n",
       "relationship_4      0.020217\n",
       "relationship_3      0.019990\n",
       "fnlwgt              0.018270\n",
       "sex_2               0.016706\n",
       "education_7         0.015824\n",
       "sex_1               0.014895\n",
       "education_1         0.010155\n",
       "education_5         0.009522\n",
       "occupation_4        0.009443\n",
       "dtype: float64"
      ]
     },
     "execution_count": 213,
     "metadata": {},
     "output_type": "execute_result"
    }
   ],
   "source": [
    "feature_scores = pd.Series(best_rf.feature_importances_, index=X_train.columns).sort_values(ascending=False)\n",
    "feature_scores[:20]"
   ]
  },
  {
   "cell_type": "code",
   "execution_count": 198,
   "metadata": {},
   "outputs": [
    {
     "data": {
      "text/plain": [
       "MultiIndex([(              'age',),\n",
       "            (      'workclass_1',),\n",
       "            (      'workclass_2',),\n",
       "            (      'workclass_3',),\n",
       "            (      'workclass_4',),\n",
       "            (      'workclass_5',),\n",
       "            (      'workclass_6',),\n",
       "            (      'workclass_7',),\n",
       "            (      'workclass_8',),\n",
       "            (           'fnlwgt',),\n",
       "            ...\n",
       "            ('native_country_32',),\n",
       "            ('native_country_33',),\n",
       "            ('native_country_34',),\n",
       "            ('native_country_35',),\n",
       "            ('native_country_36',),\n",
       "            ('native_country_37',),\n",
       "            ('native_country_38',),\n",
       "            ('native_country_39',),\n",
       "            ('native_country_40',),\n",
       "            ('native_country_41',)],\n",
       "           length=105)"
      ]
     },
     "execution_count": 198,
     "metadata": {},
     "output_type": "execute_result"
    }
   ],
   "source": [
    "X_train.columns"
   ]
  },
  {
   "cell_type": "code",
   "execution_count": 215,
   "metadata": {},
   "outputs": [],
   "source": [
    "ftr1 = ftr_top.reset_index(level = [0]).set_index(['level_0']).index"
   ]
  },
  {
   "cell_type": "code",
   "execution_count": 216,
   "metadata": {},
   "outputs": [
    {
     "data": {
      "text/plain": [
       "<AxesSubplot:title={'center':'Feature importance'}, ylabel='level_0'>"
      ]
     },
     "execution_count": 216,
     "metadata": {},
     "output_type": "execute_result"
    },
    {
     "data": {
      "image/png": "[encoded data removed]",
      "text/plain": [
       "<Figure size 576x432 with 1 Axes>"
      ]
     },
     "metadata": {
      "needs_background": "light"
     },
     "output_type": "display_data"
    }
   ],
   "source": [
    "ftr_importance_values = best_rf.feature_importances_\n",
    "ftr_importance = pd.Series(ftr_importance_values, index = X_train.columns)\n",
    "ftr_top = ftr_importance.sort_values(ascending = False)\n",
    "\n",
    "plt.figure(figsize = (8,6))\n",
    "plt.title('Feature importance')\n",
    "sns.barplot(x = ftr_top, y = ftr1)"
   ]
  },
  {
   "cell_type": "code",
   "execution_count": 210,
   "metadata": {},
   "outputs": [
    {
     "data": {
      "text/plain": [
       "capital_gain         0.148797\n",
       "marital_status_1     0.119257\n",
       "education_num        0.108499\n",
       "relationship_1       0.091756\n",
       "age                  0.067023\n",
       "                       ...   \n",
       "native_country_16    0.000008\n",
       "occupation_14        0.000007\n",
       "workclass_8          0.000004\n",
       "native_country_35    0.000001\n",
       "native_country_41    0.000000\n",
       "Length: 105, dtype: float64"
      ]
     },
     "execution_count": 210,
     "metadata": {},
     "output_type": "execute_result"
    }
   ],
   "source": [
    "ftr_top"
   ]
  },
  {
   "cell_type": "markdown",
   "metadata": {},
   "source": [
    "## LGBM"
   ]
  },
  {
   "cell_type": "code",
   "execution_count": 200,
   "metadata": {},
   "outputs": [
    {
     "data": {
      "text/plain": [
       "32098    1\n",
       "25206    0\n",
       "23491    1\n",
       "12367    0\n",
       "7054     0\n",
       "        ..\n",
       "13123    1\n",
       "19648    0\n",
       "9845     0\n",
       "10799    1\n",
       "2732     0\n",
       "Name: income, Length: 22792, dtype: int32"
      ]
     },
     "execution_count": 200,
     "metadata": {},
     "output_type": "execute_result"
    }
   ],
   "source": [
    "y_train"
   ]
  },
  {
   "cell_type": "code",
   "execution_count": null,
   "metadata": {},
   "outputs": [],
   "source": [
    "best_lgbm = grid_lgbm.best_estimator_\n",
    "best_lgbm.fit(X_train,y_train)\n",
    "best_pred = best_lgbm.predict(X_test)\n",
    "get_model_train_eval(best_lgbm, ftr_train=X_train, ftr_test=X_test, tgt_train=y_train, tgt_test=y_test)\n"
   ]
  },
  {
   "cell_type": "code",
   "execution_count": null,
   "metadata": {},
   "outputs": [],
   "source": [
    "from lightgbm import plot_importance\n",
    "import matplotlib.pyplot as plt\n",
    "%matplotlib inline\n",
    "\n",
    "fig, ax = plt.subplots(figsize=(10, 12))\n",
    "# 사이킷런 래퍼 클래스를 입력해도 무방. \n",
    "plot_importance(best_lgbm, ax=ax)"
   ]
  },
  {
   "cell_type": "code",
   "execution_count": null,
   "metadata": {},
   "outputs": [],
   "source": []
  },
  {
   "cell_type": "markdown",
   "metadata": {},
   "source": [
    "## xgboost"
   ]
  },
  {
   "cell_type": "code",
   "execution_count": 172,
   "metadata": {},
   "outputs": [],
   "source": [
    "dtrain = xgb.DMatrix(data=X_train , label=y_train)\n",
    "dtest = xgb.DMatrix(data=X_test , label=y_test)"
   ]
  },
  {
   "cell_type": "code",
   "execution_count": 173,
   "metadata": {},
   "outputs": [],
   "source": [
    "params = { 'max_depth':3,\n",
    "           'eta': 0.1,\n",
    "           'objective':'binary:logistic',\n",
    "           'eval_metric':'logloss',\n",
    "           'early_stoppings':100\n",
    "        }\n",
    "num_rounds = 400"
   ]
  },
  {
   "cell_type": "code",
   "execution_count": 174,
   "metadata": {},
   "outputs": [
    {
     "name": "stdout",
     "output_type": "stream",
     "text": [
      "[23:01:03] WARNING: C:\\Users\\Administrator\\workspace\\xgboost-win64_release_1.2.0\\src\\learner.cc:516: \n",
      "Parameters: { early_stoppings } might not be used.\n",
      "\n",
      "  This may not be accurate due to some parameters are only used in language bindings but\n",
      "  passed down to XGBoost core.  Or some parameters are not used but slip through this\n",
      "  verification. Please open an issue if you find above cases.\n",
      "\n",
      "\n",
      "[0]\ttrain-logloss:0.64143\teval-logloss:0.64129\n",
      "[1]\ttrain-logloss:0.59916\teval-logloss:0.59897\n",
      "[2]\ttrain-logloss:0.56406\teval-logloss:0.56393\n",
      "[3]\ttrain-logloss:0.53452\teval-logloss:0.53444\n",
      "[4]\ttrain-logloss:0.50947\teval-logloss:0.50938\n",
      "[5]\ttrain-logloss:0.48796\teval-logloss:0.48792\n",
      "[6]\ttrain-logloss:0.46945\teval-logloss:0.46962\n",
      "[7]\ttrain-logloss:0.45331\teval-logloss:0.45364\n",
      "[8]\ttrain-logloss:0.43938\teval-logloss:0.43973\n",
      "[9]\ttrain-logloss:0.42639\teval-logloss:0.42675\n",
      "[10]\ttrain-logloss:0.41554\teval-logloss:0.41604\n",
      "[11]\ttrain-logloss:0.40562\teval-logloss:0.40615\n",
      "[12]\ttrain-logloss:0.39685\teval-logloss:0.39762\n",
      "[13]\ttrain-logloss:0.38915\teval-logloss:0.39000\n",
      "[14]\ttrain-logloss:0.38227\teval-logloss:0.38331\n",
      "[15]\ttrain-logloss:0.37552\teval-logloss:0.37664\n",
      "[16]\ttrain-logloss:0.37011\teval-logloss:0.37140\n",
      "[17]\ttrain-logloss:0.36509\teval-logloss:0.36662\n",
      "[18]\ttrain-logloss:0.36072\teval-logloss:0.36217\n",
      "[19]\ttrain-logloss:0.35635\teval-logloss:0.35797\n",
      "[20]\ttrain-logloss:0.35272\teval-logloss:0.35462\n",
      "[21]\ttrain-logloss:0.34908\teval-logloss:0.35124\n",
      "[22]\ttrain-logloss:0.34583\teval-logloss:0.34820\n",
      "[23]\ttrain-logloss:0.34292\teval-logloss:0.34534\n",
      "[24]\ttrain-logloss:0.34031\teval-logloss:0.34279\n",
      "[25]\ttrain-logloss:0.33762\teval-logloss:0.34030\n",
      "[26]\ttrain-logloss:0.33522\teval-logloss:0.33804\n",
      "[27]\ttrain-logloss:0.33297\teval-logloss:0.33602\n",
      "[28]\ttrain-logloss:0.33109\teval-logloss:0.33420\n",
      "[29]\ttrain-logloss:0.32878\teval-logloss:0.33189\n",
      "[30]\ttrain-logloss:0.32692\teval-logloss:0.33010\n",
      "[31]\ttrain-logloss:0.32520\teval-logloss:0.32831\n",
      "[32]\ttrain-logloss:0.32326\teval-logloss:0.32655\n",
      "[33]\ttrain-logloss:0.32179\teval-logloss:0.32514\n",
      "[34]\ttrain-logloss:0.32039\teval-logloss:0.32363\n",
      "[35]\ttrain-logloss:0.31882\teval-logloss:0.32210\n",
      "[36]\ttrain-logloss:0.31779\teval-logloss:0.32120\n",
      "[37]\ttrain-logloss:0.31655\teval-logloss:0.32015\n",
      "[38]\ttrain-logloss:0.31540\teval-logloss:0.31910\n",
      "[39]\ttrain-logloss:0.31439\teval-logloss:0.31827\n",
      "[40]\ttrain-logloss:0.31343\teval-logloss:0.31732\n",
      "[41]\ttrain-logloss:0.31249\teval-logloss:0.31652\n",
      "[42]\ttrain-logloss:0.31165\teval-logloss:0.31571\n",
      "[43]\ttrain-logloss:0.31090\teval-logloss:0.31508\n",
      "[44]\ttrain-logloss:0.31020\teval-logloss:0.31441\n",
      "[45]\ttrain-logloss:0.30940\teval-logloss:0.31365\n",
      "[46]\ttrain-logloss:0.30873\teval-logloss:0.31305\n",
      "[47]\ttrain-logloss:0.30800\teval-logloss:0.31234\n",
      "[48]\ttrain-logloss:0.30743\teval-logloss:0.31184\n",
      "[49]\ttrain-logloss:0.30667\teval-logloss:0.31133\n",
      "[50]\ttrain-logloss:0.30604\teval-logloss:0.31075\n",
      "[51]\ttrain-logloss:0.30538\teval-logloss:0.31033\n",
      "[52]\ttrain-logloss:0.30487\teval-logloss:0.30985\n",
      "[53]\ttrain-logloss:0.30430\teval-logloss:0.30939\n",
      "[54]\ttrain-logloss:0.30384\teval-logloss:0.30903\n",
      "[55]\ttrain-logloss:0.30330\teval-logloss:0.30855\n",
      "[56]\ttrain-logloss:0.30274\teval-logloss:0.30798\n",
      "[57]\ttrain-logloss:0.30229\teval-logloss:0.30766\n",
      "[58]\ttrain-logloss:0.30167\teval-logloss:0.30725\n",
      "[59]\ttrain-logloss:0.30116\teval-logloss:0.30676\n",
      "[60]\ttrain-logloss:0.30079\teval-logloss:0.30654\n",
      "[61]\ttrain-logloss:0.30030\teval-logloss:0.30609\n",
      "[62]\ttrain-logloss:0.29995\teval-logloss:0.30579\n",
      "[63]\ttrain-logloss:0.29965\teval-logloss:0.30548\n",
      "[64]\ttrain-logloss:0.29929\teval-logloss:0.30525\n",
      "[65]\ttrain-logloss:0.29878\teval-logloss:0.30487\n",
      "[66]\ttrain-logloss:0.29839\teval-logloss:0.30458\n",
      "[67]\ttrain-logloss:0.29812\teval-logloss:0.30439\n",
      "[68]\ttrain-logloss:0.29780\teval-logloss:0.30407\n",
      "[69]\ttrain-logloss:0.29749\teval-logloss:0.30388\n",
      "[70]\ttrain-logloss:0.29667\teval-logloss:0.30316\n",
      "[71]\ttrain-logloss:0.29638\teval-logloss:0.30308\n",
      "[72]\ttrain-logloss:0.29602\teval-logloss:0.30294\n",
      "[73]\ttrain-logloss:0.29564\teval-logloss:0.30262\n",
      "[74]\ttrain-logloss:0.29509\teval-logloss:0.30222\n",
      "[75]\ttrain-logloss:0.29482\teval-logloss:0.30200\n",
      "[76]\ttrain-logloss:0.29440\teval-logloss:0.30167\n",
      "[77]\ttrain-logloss:0.29414\teval-logloss:0.30152\n",
      "[78]\ttrain-logloss:0.29333\teval-logloss:0.30078\n",
      "[79]\ttrain-logloss:0.29262\teval-logloss:0.29993\n",
      "[80]\ttrain-logloss:0.29242\teval-logloss:0.29977\n",
      "[81]\ttrain-logloss:0.29214\teval-logloss:0.29966\n",
      "[82]\ttrain-logloss:0.29183\teval-logloss:0.29942\n",
      "[83]\ttrain-logloss:0.29148\teval-logloss:0.29922\n",
      "[84]\ttrain-logloss:0.29105\teval-logloss:0.29895\n",
      "[85]\ttrain-logloss:0.29036\teval-logloss:0.29832\n",
      "[86]\ttrain-logloss:0.29017\teval-logloss:0.29815\n",
      "[87]\ttrain-logloss:0.28996\teval-logloss:0.29798\n",
      "[88]\ttrain-logloss:0.28974\teval-logloss:0.29786\n",
      "[89]\ttrain-logloss:0.28950\teval-logloss:0.29776\n",
      "[90]\ttrain-logloss:0.28933\teval-logloss:0.29767\n",
      "[91]\ttrain-logloss:0.28882\teval-logloss:0.29722\n",
      "[92]\ttrain-logloss:0.28859\teval-logloss:0.29710\n",
      "[93]\ttrain-logloss:0.28819\teval-logloss:0.29686\n",
      "[94]\ttrain-logloss:0.28800\teval-logloss:0.29666\n",
      "[95]\ttrain-logloss:0.28772\teval-logloss:0.29645\n",
      "[96]\ttrain-logloss:0.28756\teval-logloss:0.29635\n",
      "[97]\ttrain-logloss:0.28734\teval-logloss:0.29626\n",
      "[98]\ttrain-logloss:0.28716\teval-logloss:0.29619\n",
      "[99]\ttrain-logloss:0.28702\teval-logloss:0.29609\n",
      "[100]\ttrain-logloss:0.28649\teval-logloss:0.29559\n",
      "[101]\ttrain-logloss:0.28631\teval-logloss:0.29549\n",
      "[102]\ttrain-logloss:0.28598\teval-logloss:0.29531\n",
      "[103]\ttrain-logloss:0.28576\teval-logloss:0.29518\n",
      "[104]\ttrain-logloss:0.28552\teval-logloss:0.29501\n",
      "[105]\ttrain-logloss:0.28521\teval-logloss:0.29480\n",
      "[106]\ttrain-logloss:0.28465\teval-logloss:0.29412\n",
      "[107]\ttrain-logloss:0.28448\teval-logloss:0.29410\n",
      "[108]\ttrain-logloss:0.28433\teval-logloss:0.29405\n",
      "[109]\ttrain-logloss:0.28417\teval-logloss:0.29392\n",
      "[110]\ttrain-logloss:0.28387\teval-logloss:0.29372\n",
      "[111]\ttrain-logloss:0.28367\teval-logloss:0.29354\n",
      "[112]\ttrain-logloss:0.28322\teval-logloss:0.29311\n",
      "[113]\ttrain-logloss:0.28309\teval-logloss:0.29306\n",
      "[114]\ttrain-logloss:0.28261\teval-logloss:0.29249\n",
      "[115]\ttrain-logloss:0.28245\teval-logloss:0.29253\n",
      "[116]\ttrain-logloss:0.28226\teval-logloss:0.29245\n",
      "[117]\ttrain-logloss:0.28200\teval-logloss:0.29221\n",
      "[118]\ttrain-logloss:0.28184\teval-logloss:0.29215\n",
      "[119]\ttrain-logloss:0.28163\teval-logloss:0.29202\n",
      "[120]\ttrain-logloss:0.28146\teval-logloss:0.29188\n",
      "[121]\ttrain-logloss:0.28131\teval-logloss:0.29173\n",
      "[122]\ttrain-logloss:0.28106\teval-logloss:0.29152\n",
      "[123]\ttrain-logloss:0.28083\teval-logloss:0.29130\n",
      "[124]\ttrain-logloss:0.28073\teval-logloss:0.29124\n",
      "[125]\ttrain-logloss:0.28056\teval-logloss:0.29115\n",
      "[126]\ttrain-logloss:0.28032\teval-logloss:0.29093\n",
      "[127]\ttrain-logloss:0.28021\teval-logloss:0.29090\n",
      "[128]\ttrain-logloss:0.28007\teval-logloss:0.29086\n",
      "[129]\ttrain-logloss:0.27968\teval-logloss:0.29049\n",
      "[130]\ttrain-logloss:0.27960\teval-logloss:0.29043\n",
      "[131]\ttrain-logloss:0.27947\teval-logloss:0.29040\n",
      "[132]\ttrain-logloss:0.27926\teval-logloss:0.29022\n",
      "[133]\ttrain-logloss:0.27916\teval-logloss:0.29024\n",
      "[134]\ttrain-logloss:0.27901\teval-logloss:0.29010\n",
      "[135]\ttrain-logloss:0.27882\teval-logloss:0.28998\n",
      "[136]\ttrain-logloss:0.27862\teval-logloss:0.28992\n",
      "[137]\ttrain-logloss:0.27825\teval-logloss:0.28946\n",
      "[138]\ttrain-logloss:0.27815\teval-logloss:0.28944\n",
      "[139]\ttrain-logloss:0.27800\teval-logloss:0.28934\n",
      "[140]\ttrain-logloss:0.27780\teval-logloss:0.28930\n",
      "[141]\ttrain-logloss:0.27749\teval-logloss:0.28903\n",
      "[142]\ttrain-logloss:0.27728\teval-logloss:0.28889\n",
      "[143]\ttrain-logloss:0.27719\teval-logloss:0.28888\n",
      "[144]\ttrain-logloss:0.27708\teval-logloss:0.28889\n",
      "[145]\ttrain-logloss:0.27698\teval-logloss:0.28881\n",
      "[146]\ttrain-logloss:0.27679\teval-logloss:0.28867\n",
      "[147]\ttrain-logloss:0.27666\teval-logloss:0.28867\n",
      "[148]\ttrain-logloss:0.27659\teval-logloss:0.28866\n",
      "[149]\ttrain-logloss:0.27646\teval-logloss:0.28859\n",
      "[150]\ttrain-logloss:0.27630\teval-logloss:0.28857\n",
      "[151]\ttrain-logloss:0.27613\teval-logloss:0.28848\n",
      "[152]\ttrain-logloss:0.27595\teval-logloss:0.28835\n",
      "[153]\ttrain-logloss:0.27577\teval-logloss:0.28819\n",
      "[154]\ttrain-logloss:0.27568\teval-logloss:0.28820\n",
      "[155]\ttrain-logloss:0.27560\teval-logloss:0.28824\n",
      "[156]\ttrain-logloss:0.27552\teval-logloss:0.28825\n",
      "[157]\ttrain-logloss:0.27519\teval-logloss:0.28786\n",
      "[158]\ttrain-logloss:0.27510\teval-logloss:0.28782\n",
      "[159]\ttrain-logloss:0.27501\teval-logloss:0.28775\n",
      "[160]\ttrain-logloss:0.27485\teval-logloss:0.28759\n",
      "[161]\ttrain-logloss:0.27479\teval-logloss:0.28756\n"
     ]
    },
    {
     "name": "stdout",
     "output_type": "stream",
     "text": [
      "[162]\ttrain-logloss:0.27465\teval-logloss:0.28746\n",
      "[163]\ttrain-logloss:0.27446\teval-logloss:0.28723\n",
      "[164]\ttrain-logloss:0.27440\teval-logloss:0.28722\n",
      "[165]\ttrain-logloss:0.27410\teval-logloss:0.28691\n",
      "[166]\ttrain-logloss:0.27400\teval-logloss:0.28692\n",
      "[167]\ttrain-logloss:0.27393\teval-logloss:0.28693\n",
      "[168]\ttrain-logloss:0.27381\teval-logloss:0.28690\n",
      "[169]\ttrain-logloss:0.27371\teval-logloss:0.28685\n",
      "[170]\ttrain-logloss:0.27343\teval-logloss:0.28655\n",
      "[171]\ttrain-logloss:0.27328\teval-logloss:0.28643\n",
      "[172]\ttrain-logloss:0.27322\teval-logloss:0.28638\n",
      "[173]\ttrain-logloss:0.27306\teval-logloss:0.28636\n",
      "[174]\ttrain-logloss:0.27290\teval-logloss:0.28623\n",
      "[175]\ttrain-logloss:0.27286\teval-logloss:0.28621\n",
      "[176]\ttrain-logloss:0.27279\teval-logloss:0.28624\n",
      "[177]\ttrain-logloss:0.27267\teval-logloss:0.28621\n",
      "[178]\ttrain-logloss:0.27259\teval-logloss:0.28619\n",
      "[179]\ttrain-logloss:0.27253\teval-logloss:0.28614\n",
      "[180]\ttrain-logloss:0.27240\teval-logloss:0.28604\n",
      "[181]\ttrain-logloss:0.27233\teval-logloss:0.28601\n",
      "[182]\ttrain-logloss:0.27222\teval-logloss:0.28601\n",
      "[183]\ttrain-logloss:0.27215\teval-logloss:0.28600\n",
      "[184]\ttrain-logloss:0.27199\teval-logloss:0.28596\n",
      "[185]\ttrain-logloss:0.27192\teval-logloss:0.28595\n",
      "[186]\ttrain-logloss:0.27189\teval-logloss:0.28589\n",
      "[187]\ttrain-logloss:0.27173\teval-logloss:0.28577\n",
      "[188]\ttrain-logloss:0.27169\teval-logloss:0.28576\n",
      "[189]\ttrain-logloss:0.27157\teval-logloss:0.28575\n",
      "[190]\ttrain-logloss:0.27149\teval-logloss:0.28568\n",
      "[191]\ttrain-logloss:0.27140\teval-logloss:0.28565\n",
      "[192]\ttrain-logloss:0.27133\teval-logloss:0.28560\n",
      "[193]\ttrain-logloss:0.27122\teval-logloss:0.28554\n",
      "[194]\ttrain-logloss:0.27107\teval-logloss:0.28550\n",
      "[195]\ttrain-logloss:0.27096\teval-logloss:0.28548\n",
      "[196]\ttrain-logloss:0.27092\teval-logloss:0.28547\n",
      "[197]\ttrain-logloss:0.27087\teval-logloss:0.28550\n",
      "[198]\ttrain-logloss:0.27082\teval-logloss:0.28548\n",
      "[199]\ttrain-logloss:0.27078\teval-logloss:0.28547\n",
      "[200]\ttrain-logloss:0.27072\teval-logloss:0.28541\n",
      "[201]\ttrain-logloss:0.27054\teval-logloss:0.28532\n",
      "[202]\ttrain-logloss:0.27049\teval-logloss:0.28532\n",
      "[203]\ttrain-logloss:0.27036\teval-logloss:0.28525\n",
      "[204]\ttrain-logloss:0.27026\teval-logloss:0.28524\n",
      "[205]\ttrain-logloss:0.27014\teval-logloss:0.28515\n",
      "[206]\ttrain-logloss:0.26989\teval-logloss:0.28489\n",
      "[207]\ttrain-logloss:0.26986\teval-logloss:0.28490\n",
      "[208]\ttrain-logloss:0.26983\teval-logloss:0.28489\n",
      "[209]\ttrain-logloss:0.26972\teval-logloss:0.28479\n",
      "[210]\ttrain-logloss:0.26967\teval-logloss:0.28480\n",
      "[211]\ttrain-logloss:0.26960\teval-logloss:0.28485\n",
      "[212]\ttrain-logloss:0.26947\teval-logloss:0.28482\n",
      "[213]\ttrain-logloss:0.26931\teval-logloss:0.28473\n",
      "[214]\ttrain-logloss:0.26920\teval-logloss:0.28473\n",
      "[215]\ttrain-logloss:0.26917\teval-logloss:0.28474\n",
      "[216]\ttrain-logloss:0.26914\teval-logloss:0.28472\n",
      "[217]\ttrain-logloss:0.26893\teval-logloss:0.28452\n",
      "[218]\ttrain-logloss:0.26889\teval-logloss:0.28450\n",
      "[219]\ttrain-logloss:0.26879\teval-logloss:0.28445\n",
      "[220]\ttrain-logloss:0.26867\teval-logloss:0.28445\n",
      "[221]\ttrain-logloss:0.26864\teval-logloss:0.28445\n",
      "[222]\ttrain-logloss:0.26852\teval-logloss:0.28437\n",
      "[223]\ttrain-logloss:0.26848\teval-logloss:0.28439\n",
      "[224]\ttrain-logloss:0.26841\teval-logloss:0.28439\n",
      "[225]\ttrain-logloss:0.26835\teval-logloss:0.28439\n",
      "[226]\ttrain-logloss:0.26829\teval-logloss:0.28438\n",
      "[227]\ttrain-logloss:0.26823\teval-logloss:0.28435\n",
      "[228]\ttrain-logloss:0.26817\teval-logloss:0.28434\n",
      "[229]\ttrain-logloss:0.26812\teval-logloss:0.28430\n",
      "[230]\ttrain-logloss:0.26806\teval-logloss:0.28427\n",
      "[231]\ttrain-logloss:0.26801\teval-logloss:0.28429\n",
      "[232]\ttrain-logloss:0.26779\teval-logloss:0.28402\n",
      "[233]\ttrain-logloss:0.26766\teval-logloss:0.28392\n",
      "[234]\ttrain-logloss:0.26760\teval-logloss:0.28387\n",
      "[235]\ttrain-logloss:0.26758\teval-logloss:0.28386\n",
      "[236]\ttrain-logloss:0.26746\teval-logloss:0.28380\n",
      "[237]\ttrain-logloss:0.26743\teval-logloss:0.28379\n",
      "[238]\ttrain-logloss:0.26736\teval-logloss:0.28380\n",
      "[239]\ttrain-logloss:0.26725\teval-logloss:0.28380\n",
      "[240]\ttrain-logloss:0.26715\teval-logloss:0.28374\n",
      "[241]\ttrain-logloss:0.26707\teval-logloss:0.28370\n",
      "[242]\ttrain-logloss:0.26704\teval-logloss:0.28374\n",
      "[243]\ttrain-logloss:0.26702\teval-logloss:0.28375\n",
      "[244]\ttrain-logloss:0.26697\teval-logloss:0.28377\n",
      "[245]\ttrain-logloss:0.26693\teval-logloss:0.28374\n",
      "[246]\ttrain-logloss:0.26689\teval-logloss:0.28376\n",
      "[247]\ttrain-logloss:0.26687\teval-logloss:0.28374\n",
      "[248]\ttrain-logloss:0.26682\teval-logloss:0.28369\n",
      "[249]\ttrain-logloss:0.26679\teval-logloss:0.28366\n",
      "[250]\ttrain-logloss:0.26669\teval-logloss:0.28360\n",
      "[251]\ttrain-logloss:0.26655\teval-logloss:0.28347\n",
      "[252]\ttrain-logloss:0.26651\teval-logloss:0.28349\n",
      "[253]\ttrain-logloss:0.26640\teval-logloss:0.28348\n",
      "[254]\ttrain-logloss:0.26638\teval-logloss:0.28346\n",
      "[255]\ttrain-logloss:0.26629\teval-logloss:0.28339\n",
      "[256]\ttrain-logloss:0.26618\teval-logloss:0.28331\n",
      "[257]\ttrain-logloss:0.26614\teval-logloss:0.28333\n",
      "[258]\ttrain-logloss:0.26602\teval-logloss:0.28326\n",
      "[259]\ttrain-logloss:0.26600\teval-logloss:0.28326\n",
      "[260]\ttrain-logloss:0.26582\teval-logloss:0.28304\n",
      "[261]\ttrain-logloss:0.26578\teval-logloss:0.28303\n",
      "[262]\ttrain-logloss:0.26571\teval-logloss:0.28297\n",
      "[263]\ttrain-logloss:0.26566\teval-logloss:0.28300\n",
      "[264]\ttrain-logloss:0.26560\teval-logloss:0.28301\n",
      "[265]\ttrain-logloss:0.26556\teval-logloss:0.28299\n",
      "[266]\ttrain-logloss:0.26547\teval-logloss:0.28300\n",
      "[267]\ttrain-logloss:0.26543\teval-logloss:0.28298\n",
      "[268]\ttrain-logloss:0.26538\teval-logloss:0.28296\n",
      "[269]\ttrain-logloss:0.26534\teval-logloss:0.28296\n",
      "[270]\ttrain-logloss:0.26526\teval-logloss:0.28295\n",
      "[271]\ttrain-logloss:0.26519\teval-logloss:0.28294\n",
      "[272]\ttrain-logloss:0.26517\teval-logloss:0.28291\n",
      "[273]\ttrain-logloss:0.26513\teval-logloss:0.28290\n",
      "[274]\ttrain-logloss:0.26496\teval-logloss:0.28272\n",
      "[275]\ttrain-logloss:0.26494\teval-logloss:0.28271\n",
      "[276]\ttrain-logloss:0.26489\teval-logloss:0.28272\n",
      "[277]\ttrain-logloss:0.26483\teval-logloss:0.28269\n",
      "[278]\ttrain-logloss:0.26476\teval-logloss:0.28268\n",
      "[279]\ttrain-logloss:0.26472\teval-logloss:0.28266\n",
      "[280]\ttrain-logloss:0.26465\teval-logloss:0.28261\n",
      "[281]\ttrain-logloss:0.26458\teval-logloss:0.28255\n",
      "[282]\ttrain-logloss:0.26448\teval-logloss:0.28258\n",
      "[283]\ttrain-logloss:0.26441\teval-logloss:0.28258\n",
      "[284]\ttrain-logloss:0.26436\teval-logloss:0.28253\n",
      "[285]\ttrain-logloss:0.26433\teval-logloss:0.28251\n",
      "[286]\ttrain-logloss:0.26425\teval-logloss:0.28247\n",
      "[287]\ttrain-logloss:0.26412\teval-logloss:0.28249\n",
      "[288]\ttrain-logloss:0.26408\teval-logloss:0.28249\n",
      "[289]\ttrain-logloss:0.26405\teval-logloss:0.28247\n",
      "[290]\ttrain-logloss:0.26400\teval-logloss:0.28242\n",
      "[291]\ttrain-logloss:0.26392\teval-logloss:0.28232\n",
      "[292]\ttrain-logloss:0.26385\teval-logloss:0.28237\n",
      "[293]\ttrain-logloss:0.26381\teval-logloss:0.28236\n",
      "[294]\ttrain-logloss:0.26380\teval-logloss:0.28237\n",
      "[295]\ttrain-logloss:0.26373\teval-logloss:0.28232\n",
      "[296]\ttrain-logloss:0.26357\teval-logloss:0.28214\n",
      "[297]\ttrain-logloss:0.26356\teval-logloss:0.28213\n",
      "[298]\ttrain-logloss:0.26349\teval-logloss:0.28209\n",
      "[299]\ttrain-logloss:0.26344\teval-logloss:0.28209\n",
      "[300]\ttrain-logloss:0.26335\teval-logloss:0.28209\n",
      "[301]\ttrain-logloss:0.26332\teval-logloss:0.28207\n",
      "[302]\ttrain-logloss:0.26318\teval-logloss:0.28203\n",
      "[303]\ttrain-logloss:0.26315\teval-logloss:0.28204\n",
      "[304]\ttrain-logloss:0.26313\teval-logloss:0.28202\n",
      "[305]\ttrain-logloss:0.26306\teval-logloss:0.28203\n",
      "[306]\ttrain-logloss:0.26293\teval-logloss:0.28205\n",
      "[307]\ttrain-logloss:0.26292\teval-logloss:0.28205\n",
      "[308]\ttrain-logloss:0.26284\teval-logloss:0.28204\n",
      "[309]\ttrain-logloss:0.26279\teval-logloss:0.28203\n",
      "[310]\ttrain-logloss:0.26278\teval-logloss:0.28203\n",
      "[311]\ttrain-logloss:0.26271\teval-logloss:0.28199\n",
      "[312]\ttrain-logloss:0.26262\teval-logloss:0.28194\n",
      "[313]\ttrain-logloss:0.26259\teval-logloss:0.28192\n",
      "[314]\ttrain-logloss:0.26257\teval-logloss:0.28194\n",
      "[315]\ttrain-logloss:0.26243\teval-logloss:0.28180\n",
      "[316]\ttrain-logloss:0.26238\teval-logloss:0.28181\n",
      "[317]\ttrain-logloss:0.26228\teval-logloss:0.28183\n",
      "[318]\ttrain-logloss:0.26221\teval-logloss:0.28181\n",
      "[319]\ttrain-logloss:0.26208\teval-logloss:0.28168\n",
      "[320]\ttrain-logloss:0.26200\teval-logloss:0.28164\n",
      "[321]\ttrain-logloss:0.26192\teval-logloss:0.28160\n",
      "[322]\ttrain-logloss:0.26191\teval-logloss:0.28160\n",
      "[323]\ttrain-logloss:0.26188\teval-logloss:0.28163\n",
      "[324]\ttrain-logloss:0.26183\teval-logloss:0.28170\n",
      "[325]\ttrain-logloss:0.26177\teval-logloss:0.28166\n",
      "[326]\ttrain-logloss:0.26171\teval-logloss:0.28163\n",
      "[327]\ttrain-logloss:0.26159\teval-logloss:0.28156\n",
      "[328]\ttrain-logloss:0.26156\teval-logloss:0.28155\n",
      "[329]\ttrain-logloss:0.26151\teval-logloss:0.28153\n"
     ]
    },
    {
     "name": "stdout",
     "output_type": "stream",
     "text": [
      "[330]\ttrain-logloss:0.26146\teval-logloss:0.28152\n",
      "[331]\ttrain-logloss:0.26137\teval-logloss:0.28144\n",
      "[332]\ttrain-logloss:0.26125\teval-logloss:0.28129\n",
      "[333]\ttrain-logloss:0.26118\teval-logloss:0.28126\n",
      "[334]\ttrain-logloss:0.26114\teval-logloss:0.28126\n",
      "[335]\ttrain-logloss:0.26104\teval-logloss:0.28131\n",
      "[336]\ttrain-logloss:0.26096\teval-logloss:0.28130\n",
      "[337]\ttrain-logloss:0.26090\teval-logloss:0.28130\n",
      "[338]\ttrain-logloss:0.26088\teval-logloss:0.28128\n",
      "[339]\ttrain-logloss:0.26085\teval-logloss:0.28127\n",
      "[340]\ttrain-logloss:0.26080\teval-logloss:0.28125\n",
      "[341]\ttrain-logloss:0.26067\teval-logloss:0.28120\n",
      "[342]\ttrain-logloss:0.26060\teval-logloss:0.28116\n",
      "[343]\ttrain-logloss:0.26047\teval-logloss:0.28114\n",
      "[344]\ttrain-logloss:0.26046\teval-logloss:0.28114\n",
      "[345]\ttrain-logloss:0.26044\teval-logloss:0.28113\n",
      "[346]\ttrain-logloss:0.26040\teval-logloss:0.28115\n",
      "[347]\ttrain-logloss:0.26031\teval-logloss:0.28113\n",
      "[348]\ttrain-logloss:0.26028\teval-logloss:0.28114\n",
      "[349]\ttrain-logloss:0.26019\teval-logloss:0.28113\n",
      "[350]\ttrain-logloss:0.26005\teval-logloss:0.28100\n",
      "[351]\ttrain-logloss:0.25997\teval-logloss:0.28099\n",
      "[352]\ttrain-logloss:0.25985\teval-logloss:0.28086\n",
      "[353]\ttrain-logloss:0.25978\teval-logloss:0.28081\n",
      "[354]\ttrain-logloss:0.25974\teval-logloss:0.28084\n",
      "[355]\ttrain-logloss:0.25966\teval-logloss:0.28080\n",
      "[356]\ttrain-logloss:0.25963\teval-logloss:0.28079\n",
      "[357]\ttrain-logloss:0.25959\teval-logloss:0.28085\n",
      "[358]\ttrain-logloss:0.25958\teval-logloss:0.28085\n",
      "[359]\ttrain-logloss:0.25956\teval-logloss:0.28085\n",
      "[360]\ttrain-logloss:0.25947\teval-logloss:0.28076\n",
      "[361]\ttrain-logloss:0.25940\teval-logloss:0.28077\n",
      "[362]\ttrain-logloss:0.25935\teval-logloss:0.28076\n",
      "[363]\ttrain-logloss:0.25932\teval-logloss:0.28076\n",
      "[364]\ttrain-logloss:0.25924\teval-logloss:0.28076\n",
      "[365]\ttrain-logloss:0.25919\teval-logloss:0.28076\n",
      "[366]\ttrain-logloss:0.25911\teval-logloss:0.28075\n",
      "[367]\ttrain-logloss:0.25903\teval-logloss:0.28074\n",
      "[368]\ttrain-logloss:0.25894\teval-logloss:0.28071\n",
      "[369]\ttrain-logloss:0.25891\teval-logloss:0.28073\n",
      "[370]\ttrain-logloss:0.25888\teval-logloss:0.28077\n",
      "[371]\ttrain-logloss:0.25879\teval-logloss:0.28078\n",
      "[372]\ttrain-logloss:0.25877\teval-logloss:0.28078\n",
      "[373]\ttrain-logloss:0.25875\teval-logloss:0.28080\n",
      "[374]\ttrain-logloss:0.25865\teval-logloss:0.28075\n",
      "[375]\ttrain-logloss:0.25860\teval-logloss:0.28072\n",
      "[376]\ttrain-logloss:0.25857\teval-logloss:0.28075\n",
      "[377]\ttrain-logloss:0.25846\teval-logloss:0.28073\n",
      "[378]\ttrain-logloss:0.25846\teval-logloss:0.28073\n",
      "[379]\ttrain-logloss:0.25841\teval-logloss:0.28069\n",
      "[380]\ttrain-logloss:0.25832\teval-logloss:0.28062\n",
      "[381]\ttrain-logloss:0.25827\teval-logloss:0.28065\n",
      "[382]\ttrain-logloss:0.25822\teval-logloss:0.28058\n",
      "[383]\ttrain-logloss:0.25815\teval-logloss:0.28053\n",
      "[384]\ttrain-logloss:0.25811\teval-logloss:0.28054\n",
      "[385]\ttrain-logloss:0.25806\teval-logloss:0.28057\n",
      "[386]\ttrain-logloss:0.25794\teval-logloss:0.28057\n",
      "[387]\ttrain-logloss:0.25784\teval-logloss:0.28047\n",
      "[388]\ttrain-logloss:0.25777\teval-logloss:0.28045\n",
      "[389]\ttrain-logloss:0.25770\teval-logloss:0.28041\n",
      "[390]\ttrain-logloss:0.25766\teval-logloss:0.28043\n",
      "[391]\ttrain-logloss:0.25756\teval-logloss:0.28032\n",
      "[392]\ttrain-logloss:0.25749\teval-logloss:0.28029\n",
      "[393]\ttrain-logloss:0.25745\teval-logloss:0.28032\n",
      "[394]\ttrain-logloss:0.25742\teval-logloss:0.28033\n",
      "[395]\ttrain-logloss:0.25738\teval-logloss:0.28033\n",
      "[396]\ttrain-logloss:0.25727\teval-logloss:0.28023\n",
      "[397]\ttrain-logloss:0.25723\teval-logloss:0.28023\n",
      "[398]\ttrain-logloss:0.25719\teval-logloss:0.28025\n",
      "[399]\ttrain-logloss:0.25715\teval-logloss:0.28017\n"
     ]
    }
   ],
   "source": [
    "wlist = [(dtrain,'train'),(dtest,'eval') ]\n",
    "# 하이퍼 파라미터와 early stopping 파라미터를 train( ) 함수의 파라미터로 전달\n",
    "xgb_model = xgb.train(params = params , dtrain=dtrain , num_boost_round=num_rounds , evals=wlist )"
   ]
  },
  {
   "cell_type": "code",
   "execution_count": 175,
   "metadata": {},
   "outputs": [
    {
     "name": "stdout",
     "output_type": "stream",
     "text": [
      "predict( ) 수행 결과값을 10개만 표시, 예측 확률 값으로 표시됨\n",
      "[0.018 0.037 0.183 0.479 0.583 0.471 0.053 0.061 0.108 0.   ]\n",
      "예측값 10개만 표시: [0, 0, 0, 0, 1, 0, 0, 0, 0, 0]\n"
     ]
    }
   ],
   "source": [
    "pred_probs = xgb_model.predict(dtest)\n",
    "print('predict( ) 수행 결과값을 10개만 표시, 예측 확률 값으로 표시됨')\n",
    "print(np.round(pred_probs[:10],3))\n",
    "\n",
    "# 예측 확률이 0.5 보다 크면 1 , 그렇지 않으면 0 으로 예측값 결정하여 List 객체인 preds에 저장 \n",
    "preds = [ 1 if x > 0.5 else 0 for x in pred_probs ]\n",
    "print('예측값 10개만 표시:',preds[:10])"
   ]
  },
  {
   "cell_type": "code",
   "execution_count": 176,
   "metadata": {},
   "outputs": [
    {
     "name": "stdout",
     "output_type": "stream",
     "text": [
      "오차 행렬\n",
      "[[6966  441]\n",
      " [ 818 1544]]\n",
      "정확도: 0.8711, 정밀도: 0.7778, 재현율: 0.6537,    F1: 0.7104, AUC:0.9275\n"
     ]
    }
   ],
   "source": [
    "get_clf_eval(y_test , preds, pred_probs)"
   ]
  },
  {
   "cell_type": "code",
   "execution_count": 177,
   "metadata": {
    "scrolled": true
   },
   "outputs": [
    {
     "data": {
      "text/plain": [
       "<AxesSubplot:title={'center':'Feature importance'}, xlabel='F score', ylabel='Features'>"
      ]
     },
     "execution_count": 177,
     "metadata": {},
     "output_type": "execute_result"
    },
    {
     "data": {
      "image/png": "[encoded data removed]",
      "text/plain": [
       "<Figure size 720x864 with 1 Axes>"
      ]
     },
     "metadata": {
      "needs_background": "light"
     },
     "output_type": "display_data"
    }
   ],
   "source": [
    "import matplotlib.pyplot as plt\n",
    "%matplotlib inline\n",
    "\n",
    "fig, ax = plt.subplots(figsize=(10, 12))\n",
    "plot_importance(xgb_model, ax=ax)"
   ]
  },
  {
   "cell_type": "code",
   "execution_count": null,
   "metadata": {},
   "outputs": [],
   "source": []
  },
  {
   "cell_type": "code",
   "execution_count": null,
   "metadata": {},
   "outputs": [],
   "source": []
  },
  {
   "cell_type": "code",
   "execution_count": null,
   "metadata": {},
   "outputs": [],
   "source": []
  },
  {
   "cell_type": "code",
   "execution_count": null,
   "metadata": {},
   "outputs": [],
   "source": []
  },
  {
   "cell_type": "code",
   "execution_count": null,
   "metadata": {},
   "outputs": [],
   "source": []
  },
  {
   "cell_type": "code",
   "execution_count": null,
   "metadata": {},
   "outputs": [],
   "source": []
  },
  {
   "cell_type": "code",
   "execution_count": null,
   "metadata": {},
   "outputs": [],
   "source": []
  },
  {
   "cell_type": "code",
   "execution_count": null,
   "metadata": {},
   "outputs": [],
   "source": []
  },
  {
   "cell_type": "code",
   "execution_count": null,
   "metadata": {},
   "outputs": [],
   "source": []
  },
  {
   "cell_type": "code",
   "execution_count": null,
   "metadata": {},
   "outputs": [],
   "source": []
  },
  {
   "cell_type": "code",
   "execution_count": null,
   "metadata": {},
   "outputs": [],
   "source": []
  },
  {
   "cell_type": "code",
   "execution_count": null,
   "metadata": {},
   "outputs": [],
   "source": []
  },
  {
   "cell_type": "code",
   "execution_count": null,
   "metadata": {},
   "outputs": [],
   "source": []
  },
  {
   "cell_type": "code",
   "execution_count": null,
   "metadata": {},
   "outputs": [],
   "source": []
  },
  {
   "cell_type": "code",
   "execution_count": null,
   "metadata": {},
   "outputs": [],
   "source": []
  }
 ],
 "metadata": {
  "kernelspec": {
   "display_name": "Python 3",
   "language": "python",
   "name": "python3"
  },
  "language_info": {
   "codemirror_mode": {
    "name": "ipython",
    "version": 3
   },
   "file_extension": ".py",
   "mimetype": "text/x-python",
   "name": "python",
   "nbconvert_exporter": "python",
   "pygments_lexer": "ipython3",
   "version": "3.8.3"
  }
 },
 "nbformat": 4,
 "nbformat_minor": 4
}
