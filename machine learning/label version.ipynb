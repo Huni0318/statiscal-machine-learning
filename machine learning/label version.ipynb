{
 "cells": [
  {
   "cell_type": "code",
   "execution_count": 1,
   "metadata": {},
   "outputs": [],
   "source": [
    "import pandas as pd\n",
    "import numpy as np\n",
    "import matplotlib.pyplot as plt\n",
    "import seaborn as sns\n",
    "import warnings\n",
    "import os\n",
    "import matplotlib.pyplot as plt\n",
    "import matplotlib.ticker as mtick\n",
    "import matplotlib.gridspec as grid_spec\n",
    "import seaborn as sns\n",
    "from imblearn.over_sampling import SMOTE\n",
    "\n",
    "from sklearn.metrics import precision_recall_curve\n",
    "from sklearn.pipeline import Pipeline\n",
    "from sklearn.preprocessing import StandardScaler,LabelEncoder\n",
    "from sklearn.model_selection import train_test_split,cross_val_score\n",
    "from sklearn.ensemble import RandomForestClassifier\n",
    "from lightgbm import LGBMClassifier\n",
    "from xgboost import XGBClassifier\n",
    "\n",
    "from sklearn.metrics import classification_report, confusion_matrix\n",
    "from sklearn.metrics import accuracy_score, recall_score, roc_auc_score, precision_score, f1_score\n",
    "from sklearn.tree import DecisionTreeRegressor,DecisionTreeClassifier\n",
    "import xgboost as xgb\n",
    "from xgboost import plot_importance"
   ]
  },
  {
   "cell_type": "code",
   "execution_count": 2,
   "metadata": {},
   "outputs": [],
   "source": [
    "%matplotlib inline\n",
    "warnings.filterwarnings(\"ignore\", category=RuntimeWarning)\n",
    "os.chdir(r'C:\\Users\\신상훈\\바탕화면\\학과\\대학원 1-2\\통계적 기계학습\\머신러닝')"
   ]
  },
  {
   "cell_type": "code",
   "execution_count": 3,
   "metadata": {},
   "outputs": [],
   "source": [
    "df = pd.read_csv('income_evaluation.csv')"
   ]
  },
  {
   "cell_type": "code",
   "execution_count": 4,
   "metadata": {},
   "outputs": [
    {
     "data": {
      "text/plain": [
       "Index(['age', 'workclass', 'fnlwgt', 'education', 'education_num',\n",
       "       'marital_status', 'occupation', 'relationship', 'race', 'sex',\n",
       "       'capital_gain', 'capital_loss', 'hours_per_week', 'native_country',\n",
       "       'income'],\n",
       "      dtype='object')"
      ]
     },
     "execution_count": 4,
     "metadata": {},
     "output_type": "execute_result"
    }
   ],
   "source": [
    "col_names = ['age', 'workclass', 'fnlwgt', 'education', 'education_num', 'marital_status', 'occupation', 'relationship',\n",
    "             'race', 'sex', 'capital_gain', 'capital_loss', 'hours_per_week', 'native_country', 'income']\n",
    "\n",
    "df.columns = col_names\n",
    "\n",
    "df.columns"
   ]
  },
  {
   "cell_type": "code",
   "execution_count": 5,
   "metadata": {},
   "outputs": [
    {
     "name": "stdout",
     "output_type": "stream",
     "text": [
      "There are 9 categorical variables\n",
      "\n",
      "The categorical variables are :\n",
      "\n",
      " ['workclass', 'education', 'marital_status', 'occupation', 'relationship', 'race', 'sex', 'native_country', 'income']\n"
     ]
    }
   ],
   "source": [
    "categorical = [var for var in df.columns if df[var].dtype=='O']\n",
    "\n",
    "print('There are {} categorical variables\\n'.format(len(categorical)))\n",
    "\n",
    "print('The categorical variables are :\\n\\n', categorical)"
   ]
  },
  {
   "cell_type": "code",
   "execution_count": 6,
   "metadata": {},
   "outputs": [],
   "source": [
    "df['workclass'].replace(' ?', np.NaN, inplace=True)"
   ]
  },
  {
   "cell_type": "code",
   "execution_count": 7,
   "metadata": {},
   "outputs": [],
   "source": [
    "df['occupation'].replace(' ?', np.NaN, inplace=True)"
   ]
  },
  {
   "cell_type": "code",
   "execution_count": 8,
   "metadata": {},
   "outputs": [],
   "source": [
    "df['native_country'].replace(' ?', np.NaN, inplace=True)"
   ]
  },
  {
   "cell_type": "code",
   "execution_count": 9,
   "metadata": {},
   "outputs": [
    {
     "data": {
      "text/plain": [
       "workclass         1836\n",
       "education            0\n",
       "marital_status       0\n",
       "occupation        1843\n",
       "relationship         0\n",
       "race                 0\n",
       "sex                  0\n",
       "native_country     583\n",
       "income               0\n",
       "dtype: int64"
      ]
     },
     "execution_count": 9,
     "metadata": {},
     "output_type": "execute_result"
    }
   ],
   "source": [
    "df[categorical].isnull().sum()"
   ]
  },
  {
   "cell_type": "code",
   "execution_count": 10,
   "metadata": {},
   "outputs": [],
   "source": [
    "df['workclass'].fillna(df['workclass'].mode()[0], inplace=True)\n",
    "df['occupation'].fillna(df['occupation'].mode()[0], inplace=True)\n",
    "df['native_country'].fillna(df['native_country'].mode()[0], inplace=True) "
   ]
  },
  {
   "cell_type": "code",
   "execution_count": 16,
   "metadata": {},
   "outputs": [],
   "source": [
    "from sklearn.preprocessing import LabelEncoder\n",
    "\n",
    "for var in categorical:\n",
    "    encoder = LabelEncoder()\n",
    "    encoder.fit(df[var])\n",
    "    labels = encoder.transform(df[var])\n",
    "    df[var] = labels"
   ]
  },
  {
   "cell_type": "code",
   "execution_count": 17,
   "metadata": {},
   "outputs": [
    {
     "data": {
      "text/html": [
       "<div>\n",
       "<style scoped>\n",
       "    .dataframe tbody tr th:only-of-type {\n",
       "        vertical-align: middle;\n",
       "    }\n",
       "\n",
       "    .dataframe tbody tr th {\n",
       "        vertical-align: top;\n",
       "    }\n",
       "\n",
       "    .dataframe thead th {\n",
       "        text-align: right;\n",
       "    }\n",
       "</style>\n",
       "<table border=\"1\" class=\"dataframe\">\n",
       "  <thead>\n",
       "    <tr style=\"text-align: right;\">\n",
       "      <th></th>\n",
       "      <th>age</th>\n",
       "      <th>workclass</th>\n",
       "      <th>fnlwgt</th>\n",
       "      <th>education</th>\n",
       "      <th>education_num</th>\n",
       "      <th>marital_status</th>\n",
       "      <th>occupation</th>\n",
       "      <th>relationship</th>\n",
       "      <th>race</th>\n",
       "      <th>sex</th>\n",
       "      <th>capital_gain</th>\n",
       "      <th>capital_loss</th>\n",
       "      <th>hours_per_week</th>\n",
       "      <th>native_country</th>\n",
       "      <th>income</th>\n",
       "    </tr>\n",
       "  </thead>\n",
       "  <tbody>\n",
       "    <tr>\n",
       "      <th>0</th>\n",
       "      <td>39</td>\n",
       "      <td>6</td>\n",
       "      <td>77516</td>\n",
       "      <td>9</td>\n",
       "      <td>13</td>\n",
       "      <td>4</td>\n",
       "      <td>0</td>\n",
       "      <td>1</td>\n",
       "      <td>4</td>\n",
       "      <td>1</td>\n",
       "      <td>2174</td>\n",
       "      <td>0</td>\n",
       "      <td>40</td>\n",
       "      <td>38</td>\n",
       "      <td>0</td>\n",
       "    </tr>\n",
       "    <tr>\n",
       "      <th>1</th>\n",
       "      <td>50</td>\n",
       "      <td>5</td>\n",
       "      <td>83311</td>\n",
       "      <td>9</td>\n",
       "      <td>13</td>\n",
       "      <td>2</td>\n",
       "      <td>3</td>\n",
       "      <td>0</td>\n",
       "      <td>4</td>\n",
       "      <td>1</td>\n",
       "      <td>0</td>\n",
       "      <td>0</td>\n",
       "      <td>13</td>\n",
       "      <td>38</td>\n",
       "      <td>0</td>\n",
       "    </tr>\n",
       "    <tr>\n",
       "      <th>2</th>\n",
       "      <td>38</td>\n",
       "      <td>3</td>\n",
       "      <td>215646</td>\n",
       "      <td>11</td>\n",
       "      <td>9</td>\n",
       "      <td>0</td>\n",
       "      <td>5</td>\n",
       "      <td>1</td>\n",
       "      <td>4</td>\n",
       "      <td>1</td>\n",
       "      <td>0</td>\n",
       "      <td>0</td>\n",
       "      <td>40</td>\n",
       "      <td>38</td>\n",
       "      <td>0</td>\n",
       "    </tr>\n",
       "    <tr>\n",
       "      <th>3</th>\n",
       "      <td>53</td>\n",
       "      <td>3</td>\n",
       "      <td>234721</td>\n",
       "      <td>1</td>\n",
       "      <td>7</td>\n",
       "      <td>2</td>\n",
       "      <td>5</td>\n",
       "      <td>0</td>\n",
       "      <td>2</td>\n",
       "      <td>1</td>\n",
       "      <td>0</td>\n",
       "      <td>0</td>\n",
       "      <td>40</td>\n",
       "      <td>38</td>\n",
       "      <td>0</td>\n",
       "    </tr>\n",
       "    <tr>\n",
       "      <th>4</th>\n",
       "      <td>28</td>\n",
       "      <td>3</td>\n",
       "      <td>338409</td>\n",
       "      <td>9</td>\n",
       "      <td>13</td>\n",
       "      <td>2</td>\n",
       "      <td>9</td>\n",
       "      <td>5</td>\n",
       "      <td>2</td>\n",
       "      <td>0</td>\n",
       "      <td>0</td>\n",
       "      <td>0</td>\n",
       "      <td>40</td>\n",
       "      <td>4</td>\n",
       "      <td>0</td>\n",
       "    </tr>\n",
       "    <tr>\n",
       "      <th>...</th>\n",
       "      <td>...</td>\n",
       "      <td>...</td>\n",
       "      <td>...</td>\n",
       "      <td>...</td>\n",
       "      <td>...</td>\n",
       "      <td>...</td>\n",
       "      <td>...</td>\n",
       "      <td>...</td>\n",
       "      <td>...</td>\n",
       "      <td>...</td>\n",
       "      <td>...</td>\n",
       "      <td>...</td>\n",
       "      <td>...</td>\n",
       "      <td>...</td>\n",
       "      <td>...</td>\n",
       "    </tr>\n",
       "    <tr>\n",
       "      <th>32556</th>\n",
       "      <td>27</td>\n",
       "      <td>3</td>\n",
       "      <td>257302</td>\n",
       "      <td>7</td>\n",
       "      <td>12</td>\n",
       "      <td>2</td>\n",
       "      <td>12</td>\n",
       "      <td>5</td>\n",
       "      <td>4</td>\n",
       "      <td>0</td>\n",
       "      <td>0</td>\n",
       "      <td>0</td>\n",
       "      <td>38</td>\n",
       "      <td>38</td>\n",
       "      <td>0</td>\n",
       "    </tr>\n",
       "    <tr>\n",
       "      <th>32557</th>\n",
       "      <td>40</td>\n",
       "      <td>3</td>\n",
       "      <td>154374</td>\n",
       "      <td>11</td>\n",
       "      <td>9</td>\n",
       "      <td>2</td>\n",
       "      <td>6</td>\n",
       "      <td>0</td>\n",
       "      <td>4</td>\n",
       "      <td>1</td>\n",
       "      <td>0</td>\n",
       "      <td>0</td>\n",
       "      <td>40</td>\n",
       "      <td>38</td>\n",
       "      <td>1</td>\n",
       "    </tr>\n",
       "    <tr>\n",
       "      <th>32558</th>\n",
       "      <td>58</td>\n",
       "      <td>3</td>\n",
       "      <td>151910</td>\n",
       "      <td>11</td>\n",
       "      <td>9</td>\n",
       "      <td>6</td>\n",
       "      <td>0</td>\n",
       "      <td>4</td>\n",
       "      <td>4</td>\n",
       "      <td>0</td>\n",
       "      <td>0</td>\n",
       "      <td>0</td>\n",
       "      <td>40</td>\n",
       "      <td>38</td>\n",
       "      <td>0</td>\n",
       "    </tr>\n",
       "    <tr>\n",
       "      <th>32559</th>\n",
       "      <td>22</td>\n",
       "      <td>3</td>\n",
       "      <td>201490</td>\n",
       "      <td>11</td>\n",
       "      <td>9</td>\n",
       "      <td>4</td>\n",
       "      <td>0</td>\n",
       "      <td>3</td>\n",
       "      <td>4</td>\n",
       "      <td>1</td>\n",
       "      <td>0</td>\n",
       "      <td>0</td>\n",
       "      <td>20</td>\n",
       "      <td>38</td>\n",
       "      <td>0</td>\n",
       "    </tr>\n",
       "    <tr>\n",
       "      <th>32560</th>\n",
       "      <td>52</td>\n",
       "      <td>4</td>\n",
       "      <td>287927</td>\n",
       "      <td>11</td>\n",
       "      <td>9</td>\n",
       "      <td>2</td>\n",
       "      <td>3</td>\n",
       "      <td>5</td>\n",
       "      <td>4</td>\n",
       "      <td>0</td>\n",
       "      <td>15024</td>\n",
       "      <td>0</td>\n",
       "      <td>40</td>\n",
       "      <td>38</td>\n",
       "      <td>1</td>\n",
       "    </tr>\n",
       "  </tbody>\n",
       "</table>\n",
       "<p>32561 rows × 15 columns</p>\n",
       "</div>"
      ],
      "text/plain": [
       "       age  workclass  fnlwgt  education  education_num  marital_status  \\\n",
       "0       39          6   77516          9             13               4   \n",
       "1       50          5   83311          9             13               2   \n",
       "2       38          3  215646         11              9               0   \n",
       "3       53          3  234721          1              7               2   \n",
       "4       28          3  338409          9             13               2   \n",
       "...    ...        ...     ...        ...            ...             ...   \n",
       "32556   27          3  257302          7             12               2   \n",
       "32557   40          3  154374         11              9               2   \n",
       "32558   58          3  151910         11              9               6   \n",
       "32559   22          3  201490         11              9               4   \n",
       "32560   52          4  287927         11              9               2   \n",
       "\n",
       "       occupation  relationship  race  sex  capital_gain  capital_loss  \\\n",
       "0               0             1     4    1          2174             0   \n",
       "1               3             0     4    1             0             0   \n",
       "2               5             1     4    1             0             0   \n",
       "3               5             0     2    1             0             0   \n",
       "4               9             5     2    0             0             0   \n",
       "...           ...           ...   ...  ...           ...           ...   \n",
       "32556          12             5     4    0             0             0   \n",
       "32557           6             0     4    1             0             0   \n",
       "32558           0             4     4    0             0             0   \n",
       "32559           0             3     4    1             0             0   \n",
       "32560           3             5     4    0         15024             0   \n",
       "\n",
       "       hours_per_week  native_country  income  \n",
       "0                  40              38       0  \n",
       "1                  13              38       0  \n",
       "2                  40              38       0  \n",
       "3                  40              38       0  \n",
       "4                  40               4       0  \n",
       "...               ...             ...     ...  \n",
       "32556              38              38       0  \n",
       "32557              40              38       1  \n",
       "32558              40              38       0  \n",
       "32559              20              38       0  \n",
       "32560              40              38       1  \n",
       "\n",
       "[32561 rows x 15 columns]"
      ]
     },
     "execution_count": 17,
     "metadata": {},
     "output_type": "execute_result"
    }
   ],
   "source": [
    "df"
   ]
  },
  {
   "cell_type": "code",
   "execution_count": 18,
   "metadata": {},
   "outputs": [],
   "source": [
    "X = df.drop(['income'], axis=1)\n",
    "\n",
    "y = df['income']"
   ]
  },
  {
   "cell_type": "code",
   "execution_count": 19,
   "metadata": {},
   "outputs": [
    {
     "data": {
      "text/plain": [
       "0        0\n",
       "1        0\n",
       "2        0\n",
       "3        0\n",
       "4        0\n",
       "        ..\n",
       "32556    0\n",
       "32557    1\n",
       "32558    0\n",
       "32559    0\n",
       "32560    1\n",
       "Name: income, Length: 32561, dtype: int32"
      ]
     },
     "execution_count": 19,
     "metadata": {},
     "output_type": "execute_result"
    }
   ],
   "source": [
    "y"
   ]
  },
  {
   "cell_type": "code",
   "execution_count": 20,
   "metadata": {},
   "outputs": [],
   "source": [
    "X_train, X_test, y_train, y_test = train_test_split(X, y, test_size = 0.3, random_state = 0)"
   ]
  },
  {
   "cell_type": "code",
   "execution_count": 21,
   "metadata": {},
   "outputs": [
    {
     "data": {
      "text/plain": [
       "((22792, 14), (9769, 14))"
      ]
     },
     "execution_count": 21,
     "metadata": {},
     "output_type": "execute_result"
    }
   ],
   "source": [
    "X_train.shape, X_test.shape"
   ]
  },
  {
   "cell_type": "code",
   "execution_count": 23,
   "metadata": {},
   "outputs": [
    {
     "data": {
      "text/plain": [
       "['age',\n",
       " 'workclass',\n",
       " 'fnlwgt',\n",
       " 'education',\n",
       " 'education_num',\n",
       " 'marital_status',\n",
       " 'occupation',\n",
       " 'relationship',\n",
       " 'race',\n",
       " 'sex',\n",
       " 'capital_gain',\n",
       " 'capital_loss',\n",
       " 'hours_per_week',\n",
       " 'native_country']"
      ]
     },
     "execution_count": 23,
     "metadata": {},
     "output_type": "execute_result"
    }
   ],
   "source": [
    "numerical = [col for col in X_train.columns if X_train[col].dtypes != 'O']\n",
    "\n",
    "numerical"
   ]
  },
  {
   "cell_type": "code",
   "execution_count": 24,
   "metadata": {},
   "outputs": [
    {
     "data": {
      "text/plain": [
       "['age',\n",
       " 'workclass',\n",
       " 'fnlwgt',\n",
       " 'education',\n",
       " 'education_num',\n",
       " 'marital_status',\n",
       " 'occupation',\n",
       " 'relationship',\n",
       " 'race',\n",
       " 'sex',\n",
       " 'capital_gain',\n",
       " 'capital_loss',\n",
       " 'hours_per_week',\n",
       " 'native_country']"
      ]
     },
     "execution_count": 24,
     "metadata": {},
     "output_type": "execute_result"
    }
   ],
   "source": [
    "numerical = [col for col in X_train.columns if X_train[col].dtypes != 'O']\n",
    "\n",
    "numerical"
   ]
  },
  {
   "cell_type": "code",
   "execution_count": 25,
   "metadata": {},
   "outputs": [],
   "source": [
    "cols = X_train.columns"
   ]
  },
  {
   "cell_type": "code",
   "execution_count": 26,
   "metadata": {},
   "outputs": [],
   "source": [
    "from sklearn.preprocessing import RobustScaler\n",
    "\n",
    "scaler = RobustScaler()\n",
    "\n",
    "X_train = scaler.fit_transform(X_train)\n",
    "\n",
    "X_test = scaler.transform(X_test)"
   ]
  },
  {
   "cell_type": "code",
   "execution_count": 27,
   "metadata": {},
   "outputs": [],
   "source": [
    "X_train = pd.DataFrame(X_train, columns=[cols])"
   ]
  },
  {
   "cell_type": "code",
   "execution_count": 28,
   "metadata": {},
   "outputs": [],
   "source": [
    "X_test = pd.DataFrame(X_test, columns=[cols])"
   ]
  },
  {
   "cell_type": "code",
   "execution_count": 29,
   "metadata": {},
   "outputs": [],
   "source": [
    "def get_clf_eval(y_test, pred=None, pred_proba=None):\n",
    "    confusion = confusion_matrix( y_test, pred)\n",
    "    accuracy = accuracy_score(y_test , pred)\n",
    "    precision = precision_score(y_test , pred)\n",
    "    recall = recall_score(y_test , pred)\n",
    "    f1 = f1_score(y_test,pred)\n",
    "    # ROC-AUC 추가 \n",
    "    roc_auc = roc_auc_score(y_test, pred_proba)\n",
    "    print('오차 행렬')\n",
    "    print(confusion)\n",
    "    # ROC-AUC print 추가\n",
    "    print('정확도: {0:.4f}, 정밀도: {1:.4f}, 재현율: {2:.4f},\\\n",
    "    F1: {3:.4f}, AUC:{4:.4f}'.format(accuracy, precision, recall, f1, roc_auc))"
   ]
  },
  {
   "cell_type": "code",
   "execution_count": 30,
   "metadata": {},
   "outputs": [],
   "source": [
    "def get_model_train_eval(model, ftr_train=None, ftr_test=None, tgt_train=None, tgt_test=None):\n",
    "    model.fit(ftr_train, tgt_train)\n",
    "    pred = model.predict(ftr_test)\n",
    "    pred_proba = model.predict_proba(ftr_test)[:, 1]\n",
    "    get_clf_eval(tgt_test, pred, pred_proba)"
   ]
  },
  {
   "cell_type": "code",
   "execution_count": 31,
   "metadata": {},
   "outputs": [
    {
     "name": "stdout",
     "output_type": "stream",
     "text": [
      "최적 하이퍼 파라미터:\n",
      " {'max_depth': 14, 'min_samples_leaf': 1, 'min_samples_split': 14, 'n_estimators': 200}\n",
      "최고 예측 정확도: 0.8617\n"
     ]
    }
   ],
   "source": [
    "from sklearn.model_selection import GridSearchCV\n",
    "\n",
    "params = {\n",
    "    'n_estimators':[200],\n",
    "    'max_depth' : [10,12,14], \n",
    "    'min_samples_leaf' : [1 ],\n",
    "    'min_samples_split' : [12,14,16]\n",
    "}\n",
    "# RandomForestClassifier 객체 생성 후 GridSearchCV 수행\n",
    "rf_clf = RandomForestClassifier(random_state=0, n_jobs=-1)\n",
    "grid_rf = GridSearchCV(rf_clf , param_grid=params , cv=2, n_jobs=-1 )\n",
    "grid_rf.fit(X_train , y_train)\n",
    "\n",
    "print('최적 하이퍼 파라미터:\\n', grid_rf.best_params_)\n",
    "print('최고 예측 정확도: {0:.4f}'.format(grid_rf.best_score_))"
   ]
  },
  {
   "cell_type": "code",
   "execution_count": 32,
   "metadata": {},
   "outputs": [
    {
     "name": "stdout",
     "output_type": "stream",
     "text": [
      "오차 행렬\n",
      "[[6992  415]\n",
      " [ 928 1434]]\n",
      "정확도: 0.8625, 정밀도: 0.7756, 재현율: 0.6071,    F1: 0.6811, AUC:0.9166\n"
     ]
    }
   ],
   "source": [
    "best_rf = grid_rf.best_estimator_\n",
    "best_rf.fit(X_train,y_train)\n",
    "best_pred = best_rf.predict(X_test)\n",
    "get_model_train_eval(best_rf, ftr_train=X_train, ftr_test=X_test, tgt_train=y_train, tgt_test=y_test)\n"
   ]
  },
  {
   "cell_type": "code",
   "execution_count": 36,
   "metadata": {
    "scrolled": true
   },
   "outputs": [
    {
     "data": {
      "text/plain": [
       "capital_gain      0.190526\n",
       "relationship      0.170521\n",
       "education_num     0.140225\n",
       "marital_status    0.119166\n",
       "age               0.091170\n",
       "hours_per_week    0.062936\n",
       "capital_loss      0.052551\n",
       "education         0.040376\n",
       "fnlwgt            0.039921\n",
       "occupation        0.035141\n",
       "sex               0.021244\n",
       "workclass         0.020311\n",
       "native_country    0.008812\n",
       "race              0.007100\n",
       "dtype: float64"
      ]
     },
     "execution_count": 36,
     "metadata": {},
     "output_type": "execute_result"
    }
   ],
   "source": [
    "ftr_top"
   ]
  },
  {
   "cell_type": "code",
   "execution_count": 37,
   "metadata": {},
   "outputs": [
    {
     "data": {
      "text/plain": [
       "Index(['age', 'workclass', 'fnlwgt', 'education', 'education_num',\n",
       "       'marital_status', 'occupation', 'relationship', 'race', 'sex',\n",
       "       'capital_gain', 'capital_loss', 'hours_per_week', 'native_country'],\n",
       "      dtype='object')"
      ]
     },
     "execution_count": 37,
     "metadata": {},
     "output_type": "execute_result"
    }
   ],
   "source": [
    "cols"
   ]
  },
  {
   "cell_type": "code",
   "execution_count": 45,
   "metadata": {},
   "outputs": [],
   "source": [
    "ftr1 = ftr_top.reset_index(level = [0]).set_index(['level_0']).index"
   ]
  },
  {
   "cell_type": "code",
   "execution_count": null,
   "metadata": {},
   "outputs": [],
   "source": [
    "ftr_top1 = ['capital_gain','relationship','education_num','marital_status']"
   ]
  },
  {
   "cell_type": "code",
   "execution_count": 46,
   "metadata": {},
   "outputs": [
    {
     "data": {
      "text/plain": [
       "<AxesSubplot:title={'center':'Feature importance'}, ylabel='level_0'>"
      ]
     },
     "execution_count": 46,
     "metadata": {},
     "output_type": "execute_result"
    },
    {
     "data": {
      "image/png": "[encoded data removed]",
      "text/plain": [
       "<Figure size 576x432 with 1 Axes>"
      ]
     },
     "metadata": {
      "needs_background": "light"
     },
     "output_type": "display_data"
    }
   ],
   "source": [
    "ftr_importance_values = best_rf.feature_importances_\n",
    "ftr_importance = pd.Series(ftr_importance_values, index = X_train.columns)\n",
    "ftr_top = ftr_importance.sort_values(ascending = False)\n",
    "\n",
    "plt.figure(figsize = (8,6))\n",
    "plt.title('Feature importance')\n",
    "sns.barplot(x = ftr_top, y = ftr1)"
   ]
  },
  {
   "cell_type": "markdown",
   "metadata": {},
   "source": [
    "## xgboost"
   ]
  },
  {
   "cell_type": "code",
   "execution_count": 48,
   "metadata": {},
   "outputs": [],
   "source": [
    "dtrain = xgb.DMatrix(data=X_train , label=y_train)\n",
    "dtest = xgb.DMatrix(data=X_test , label=y_test)"
   ]
  },
  {
   "cell_type": "code",
   "execution_count": 49,
   "metadata": {},
   "outputs": [],
   "source": [
    "params = { 'max_depth':3,\n",
    "           'eta': 0.1,\n",
    "           'objective':'binary:logistic',\n",
    "           'eval_metric':'logloss',\n",
    "           'early_stoppings':100\n",
    "        }\n",
    "num_rounds = 400"
   ]
  },
  {
   "cell_type": "code",
   "execution_count": 50,
   "metadata": {},
   "outputs": [
    {
     "name": "stdout",
     "output_type": "stream",
     "text": [
      "[13:07:08] WARNING: C:\\Users\\Administrator\\workspace\\xgboost-win64_release_1.2.0\\src\\learner.cc:516: \n",
      "Parameters: { early_stoppings } might not be used.\n",
      "\n",
      "  This may not be accurate due to some parameters are only used in language bindings but\n",
      "  passed down to XGBoost core.  Or some parameters are not used but slip through this\n",
      "  verification. Please open an issue if you find above cases.\n",
      "\n",
      "\n",
      "[0]\ttrain-logloss:0.64212\teval-logloss:0.64209\n",
      "[1]\ttrain-logloss:0.60047\teval-logloss:0.60043\n",
      "[2]\ttrain-logloss:0.56593\teval-logloss:0.56597\n",
      "[3]\ttrain-logloss:0.53695\teval-logloss:0.53714\n",
      "[4]\ttrain-logloss:0.51224\teval-logloss:0.51249\n",
      "[5]\ttrain-logloss:0.49123\teval-logloss:0.49163\n",
      "[6]\ttrain-logloss:0.47324\teval-logloss:0.47373\n",
      "[7]\ttrain-logloss:0.45752\teval-logloss:0.45825\n",
      "[8]\ttrain-logloss:0.44382\teval-logloss:0.44459\n",
      "[9]\ttrain-logloss:0.43100\teval-logloss:0.43185\n",
      "[10]\ttrain-logloss:0.42044\teval-logloss:0.42163\n",
      "[11]\ttrain-logloss:0.41096\teval-logloss:0.41237\n",
      "[12]\ttrain-logloss:0.40256\teval-logloss:0.40407\n",
      "[13]\ttrain-logloss:0.39496\teval-logloss:0.39666\n",
      "[14]\ttrain-logloss:0.38794\teval-logloss:0.38989\n",
      "[15]\ttrain-logloss:0.38205\teval-logloss:0.38407\n",
      "[16]\ttrain-logloss:0.37625\teval-logloss:0.37846\n",
      "[17]\ttrain-logloss:0.37121\teval-logloss:0.37361\n",
      "[18]\ttrain-logloss:0.36654\teval-logloss:0.36922\n",
      "[19]\ttrain-logloss:0.36242\teval-logloss:0.36514\n",
      "[20]\ttrain-logloss:0.35873\teval-logloss:0.36163\n",
      "[21]\ttrain-logloss:0.35510\teval-logloss:0.35811\n",
      "[22]\ttrain-logloss:0.35173\teval-logloss:0.35475\n",
      "[23]\ttrain-logloss:0.34864\teval-logloss:0.35182\n",
      "[24]\ttrain-logloss:0.34606\teval-logloss:0.34947\n",
      "[25]\ttrain-logloss:0.34338\teval-logloss:0.34682\n",
      "[26]\ttrain-logloss:0.34116\teval-logloss:0.34469\n",
      "[27]\ttrain-logloss:0.33876\teval-logloss:0.34235\n",
      "[28]\ttrain-logloss:0.33663\teval-logloss:0.34028\n",
      "[29]\ttrain-logloss:0.33467\teval-logloss:0.33831\n",
      "[30]\ttrain-logloss:0.33279\teval-logloss:0.33666\n",
      "[31]\ttrain-logloss:0.33126\teval-logloss:0.33517\n",
      "[32]\ttrain-logloss:0.32968\teval-logloss:0.33368\n",
      "[33]\ttrain-logloss:0.32797\teval-logloss:0.33220\n",
      "[34]\ttrain-logloss:0.32656\teval-logloss:0.33079\n",
      "[35]\ttrain-logloss:0.32520\teval-logloss:0.32962\n",
      "[36]\ttrain-logloss:0.32379\teval-logloss:0.32834\n",
      "[37]\ttrain-logloss:0.32277\teval-logloss:0.32738\n",
      "[38]\ttrain-logloss:0.32162\teval-logloss:0.32631\n",
      "[39]\ttrain-logloss:0.32061\teval-logloss:0.32536\n",
      "[40]\ttrain-logloss:0.31975\teval-logloss:0.32449\n",
      "[41]\ttrain-logloss:0.31863\teval-logloss:0.32354\n",
      "[42]\ttrain-logloss:0.31777\teval-logloss:0.32282\n",
      "[43]\ttrain-logloss:0.31704\teval-logloss:0.32212\n",
      "[44]\ttrain-logloss:0.31587\teval-logloss:0.32099\n",
      "[45]\ttrain-logloss:0.31488\teval-logloss:0.32012\n",
      "[46]\ttrain-logloss:0.31427\teval-logloss:0.31967\n",
      "[47]\ttrain-logloss:0.31326\teval-logloss:0.31873\n",
      "[48]\ttrain-logloss:0.31171\teval-logloss:0.31730\n",
      "[49]\ttrain-logloss:0.31105\teval-logloss:0.31670\n",
      "[50]\ttrain-logloss:0.30996\teval-logloss:0.31562\n",
      "[51]\ttrain-logloss:0.30935\teval-logloss:0.31512\n",
      "[52]\ttrain-logloss:0.30874\teval-logloss:0.31451\n",
      "[53]\ttrain-logloss:0.30807\teval-logloss:0.31404\n",
      "[54]\ttrain-logloss:0.30713\teval-logloss:0.31316\n",
      "[55]\ttrain-logloss:0.30635\teval-logloss:0.31255\n",
      "[56]\ttrain-logloss:0.30522\teval-logloss:0.31136\n",
      "[57]\ttrain-logloss:0.30449\teval-logloss:0.31075\n",
      "[58]\ttrain-logloss:0.30408\teval-logloss:0.31033\n",
      "[59]\ttrain-logloss:0.30357\teval-logloss:0.30997\n",
      "[60]\ttrain-logloss:0.30310\teval-logloss:0.30951\n",
      "[61]\ttrain-logloss:0.30279\teval-logloss:0.30925\n",
      "[62]\ttrain-logloss:0.30219\teval-logloss:0.30881\n",
      "[63]\ttrain-logloss:0.30109\teval-logloss:0.30779\n",
      "[64]\ttrain-logloss:0.30061\teval-logloss:0.30755\n",
      "[65]\ttrain-logloss:0.29980\teval-logloss:0.30671\n",
      "[66]\ttrain-logloss:0.29904\teval-logloss:0.30602\n",
      "[67]\ttrain-logloss:0.29862\teval-logloss:0.30578\n",
      "[68]\ttrain-logloss:0.29825\teval-logloss:0.30538\n",
      "[69]\ttrain-logloss:0.29771\teval-logloss:0.30505\n",
      "[70]\ttrain-logloss:0.29727\teval-logloss:0.30477\n",
      "[71]\ttrain-logloss:0.29701\teval-logloss:0.30450\n",
      "[72]\ttrain-logloss:0.29653\teval-logloss:0.30415\n",
      "[73]\ttrain-logloss:0.29597\teval-logloss:0.30366\n",
      "[74]\ttrain-logloss:0.29569\teval-logloss:0.30352\n",
      "[75]\ttrain-logloss:0.29549\teval-logloss:0.30337\n",
      "[76]\ttrain-logloss:0.29486\teval-logloss:0.30262\n",
      "[77]\ttrain-logloss:0.29467\teval-logloss:0.30247\n",
      "[78]\ttrain-logloss:0.29407\teval-logloss:0.30185\n",
      "[79]\ttrain-logloss:0.29375\teval-logloss:0.30158\n",
      "[80]\ttrain-logloss:0.29317\teval-logloss:0.30103\n",
      "[81]\ttrain-logloss:0.29291\teval-logloss:0.30090\n",
      "[82]\ttrain-logloss:0.29271\teval-logloss:0.30077\n",
      "[83]\ttrain-logloss:0.29240\teval-logloss:0.30067\n",
      "[84]\ttrain-logloss:0.29189\teval-logloss:0.30006\n",
      "[85]\ttrain-logloss:0.29155\teval-logloss:0.29970\n",
      "[86]\ttrain-logloss:0.29128\teval-logloss:0.29945\n",
      "[87]\ttrain-logloss:0.29086\teval-logloss:0.29919\n",
      "[88]\ttrain-logloss:0.29062\teval-logloss:0.29906\n",
      "[89]\ttrain-logloss:0.29015\teval-logloss:0.29859\n",
      "[90]\ttrain-logloss:0.28989\teval-logloss:0.29848\n",
      "[91]\ttrain-logloss:0.28973\teval-logloss:0.29836\n",
      "[92]\ttrain-logloss:0.28925\teval-logloss:0.29787\n",
      "[93]\ttrain-logloss:0.28895\teval-logloss:0.29769\n",
      "[94]\ttrain-logloss:0.28858\teval-logloss:0.29735\n",
      "[95]\ttrain-logloss:0.28832\teval-logloss:0.29721\n",
      "[96]\ttrain-logloss:0.28791\teval-logloss:0.29689\n",
      "[97]\ttrain-logloss:0.28768\teval-logloss:0.29686\n",
      "[98]\ttrain-logloss:0.28755\teval-logloss:0.29676\n",
      "[99]\ttrain-logloss:0.28723\teval-logloss:0.29656\n",
      "[100]\ttrain-logloss:0.28693\teval-logloss:0.29642\n",
      "[101]\ttrain-logloss:0.28668\teval-logloss:0.29628\n",
      "[102]\ttrain-logloss:0.28642\teval-logloss:0.29613\n",
      "[103]\ttrain-logloss:0.28608\teval-logloss:0.29579\n",
      "[104]\ttrain-logloss:0.28596\teval-logloss:0.29567\n",
      "[105]\ttrain-logloss:0.28569\teval-logloss:0.29553\n",
      "[106]\ttrain-logloss:0.28523\teval-logloss:0.29500\n",
      "[107]\ttrain-logloss:0.28512\teval-logloss:0.29492\n",
      "[108]\ttrain-logloss:0.28493\teval-logloss:0.29491\n",
      "[109]\ttrain-logloss:0.28478\teval-logloss:0.29479\n",
      "[110]\ttrain-logloss:0.28457\teval-logloss:0.29470\n",
      "[111]\ttrain-logloss:0.28420\teval-logloss:0.29433\n",
      "[112]\ttrain-logloss:0.28392\teval-logloss:0.29417\n",
      "[113]\ttrain-logloss:0.28372\teval-logloss:0.29406\n",
      "[114]\ttrain-logloss:0.28348\teval-logloss:0.29386\n",
      "[115]\ttrain-logloss:0.28325\teval-logloss:0.29374\n",
      "[116]\ttrain-logloss:0.28316\teval-logloss:0.29368\n",
      "[117]\ttrain-logloss:0.28287\teval-logloss:0.29342\n",
      "[118]\ttrain-logloss:0.28259\teval-logloss:0.29312\n",
      "[119]\ttrain-logloss:0.28241\teval-logloss:0.29302\n",
      "[120]\ttrain-logloss:0.28230\teval-logloss:0.29293\n",
      "[121]\ttrain-logloss:0.28214\teval-logloss:0.29291\n",
      "[122]\ttrain-logloss:0.28204\teval-logloss:0.29279\n",
      "[123]\ttrain-logloss:0.28166\teval-logloss:0.29236\n",
      "[124]\ttrain-logloss:0.28149\teval-logloss:0.29224\n",
      "[125]\ttrain-logloss:0.28127\teval-logloss:0.29197\n",
      "[126]\ttrain-logloss:0.28106\teval-logloss:0.29181\n",
      "[127]\ttrain-logloss:0.28089\teval-logloss:0.29173\n",
      "[128]\ttrain-logloss:0.28063\teval-logloss:0.29155\n",
      "[129]\ttrain-logloss:0.28050\teval-logloss:0.29149\n",
      "[130]\ttrain-logloss:0.28040\teval-logloss:0.29144\n",
      "[131]\ttrain-logloss:0.28031\teval-logloss:0.29142\n",
      "[132]\ttrain-logloss:0.28015\teval-logloss:0.29141\n",
      "[133]\ttrain-logloss:0.27982\teval-logloss:0.29104\n",
      "[134]\ttrain-logloss:0.27959\teval-logloss:0.29088\n",
      "[135]\ttrain-logloss:0.27951\teval-logloss:0.29083\n",
      "[136]\ttrain-logloss:0.27933\teval-logloss:0.29059\n",
      "[137]\ttrain-logloss:0.27917\teval-logloss:0.29049\n",
      "[138]\ttrain-logloss:0.27902\teval-logloss:0.29042\n",
      "[139]\ttrain-logloss:0.27886\teval-logloss:0.29037\n",
      "[140]\ttrain-logloss:0.27862\teval-logloss:0.29028\n",
      "[141]\ttrain-logloss:0.27837\teval-logloss:0.29002\n",
      "[142]\ttrain-logloss:0.27826\teval-logloss:0.28994\n",
      "[143]\ttrain-logloss:0.27817\teval-logloss:0.28985\n",
      "[144]\ttrain-logloss:0.27788\teval-logloss:0.28954\n",
      "[145]\ttrain-logloss:0.27776\teval-logloss:0.28948\n",
      "[146]\ttrain-logloss:0.27758\teval-logloss:0.28937\n",
      "[147]\ttrain-logloss:0.27748\teval-logloss:0.28929\n",
      "[148]\ttrain-logloss:0.27736\teval-logloss:0.28922\n",
      "[149]\ttrain-logloss:0.27724\teval-logloss:0.28922\n",
      "[150]\ttrain-logloss:0.27710\teval-logloss:0.28923\n",
      "[151]\ttrain-logloss:0.27700\teval-logloss:0.28918\n",
      "[152]\ttrain-logloss:0.27693\teval-logloss:0.28919\n",
      "[153]\ttrain-logloss:0.27676\teval-logloss:0.28911\n",
      "[154]\ttrain-logloss:0.27670\teval-logloss:0.28906\n",
      "[155]\ttrain-logloss:0.27648\teval-logloss:0.28900\n",
      "[156]\ttrain-logloss:0.27637\teval-logloss:0.28899\n",
      "[157]\ttrain-logloss:0.27611\teval-logloss:0.28875\n",
      "[158]\ttrain-logloss:0.27597\teval-logloss:0.28863\n",
      "[159]\ttrain-logloss:0.27586\teval-logloss:0.28853\n",
      "[160]\ttrain-logloss:0.27577\teval-logloss:0.28850\n",
      "[161]\ttrain-logloss:0.27569\teval-logloss:0.28852\n"
     ]
    },
    {
     "name": "stdout",
     "output_type": "stream",
     "text": [
      "[162]\ttrain-logloss:0.27549\teval-logloss:0.28847\n",
      "[163]\ttrain-logloss:0.27540\teval-logloss:0.28839\n",
      "[164]\ttrain-logloss:0.27533\teval-logloss:0.28837\n",
      "[165]\ttrain-logloss:0.27526\teval-logloss:0.28829\n",
      "[166]\ttrain-logloss:0.27522\teval-logloss:0.28827\n",
      "[167]\ttrain-logloss:0.27501\teval-logloss:0.28806\n",
      "[168]\ttrain-logloss:0.27485\teval-logloss:0.28800\n",
      "[169]\ttrain-logloss:0.27470\teval-logloss:0.28791\n",
      "[170]\ttrain-logloss:0.27460\teval-logloss:0.28788\n",
      "[171]\ttrain-logloss:0.27452\teval-logloss:0.28786\n",
      "[172]\ttrain-logloss:0.27426\teval-logloss:0.28762\n",
      "[173]\ttrain-logloss:0.27420\teval-logloss:0.28759\n",
      "[174]\ttrain-logloss:0.27408\teval-logloss:0.28753\n",
      "[175]\ttrain-logloss:0.27394\teval-logloss:0.28747\n",
      "[176]\ttrain-logloss:0.27388\teval-logloss:0.28744\n",
      "[177]\ttrain-logloss:0.27372\teval-logloss:0.28730\n",
      "[178]\ttrain-logloss:0.27366\teval-logloss:0.28726\n",
      "[179]\ttrain-logloss:0.27362\teval-logloss:0.28723\n",
      "[180]\ttrain-logloss:0.27352\teval-logloss:0.28717\n",
      "[181]\ttrain-logloss:0.27346\teval-logloss:0.28712\n",
      "[182]\ttrain-logloss:0.27327\teval-logloss:0.28714\n",
      "[183]\ttrain-logloss:0.27321\teval-logloss:0.28711\n",
      "[184]\ttrain-logloss:0.27303\teval-logloss:0.28701\n",
      "[185]\ttrain-logloss:0.27290\teval-logloss:0.28691\n",
      "[186]\ttrain-logloss:0.27268\teval-logloss:0.28668\n",
      "[187]\ttrain-logloss:0.27261\teval-logloss:0.28660\n",
      "[188]\ttrain-logloss:0.27258\teval-logloss:0.28658\n",
      "[189]\ttrain-logloss:0.27250\teval-logloss:0.28655\n",
      "[190]\ttrain-logloss:0.27244\teval-logloss:0.28655\n",
      "[191]\ttrain-logloss:0.27235\teval-logloss:0.28650\n",
      "[192]\ttrain-logloss:0.27224\teval-logloss:0.28652\n",
      "[193]\ttrain-logloss:0.27216\teval-logloss:0.28650\n",
      "[194]\ttrain-logloss:0.27207\teval-logloss:0.28647\n",
      "[195]\ttrain-logloss:0.27195\teval-logloss:0.28644\n",
      "[196]\ttrain-logloss:0.27180\teval-logloss:0.28640\n",
      "[197]\ttrain-logloss:0.27160\teval-logloss:0.28620\n",
      "[198]\ttrain-logloss:0.27151\teval-logloss:0.28618\n",
      "[199]\ttrain-logloss:0.27146\teval-logloss:0.28618\n",
      "[200]\ttrain-logloss:0.27135\teval-logloss:0.28615\n",
      "[201]\ttrain-logloss:0.27129\teval-logloss:0.28613\n",
      "[202]\ttrain-logloss:0.27116\teval-logloss:0.28612\n",
      "[203]\ttrain-logloss:0.27111\teval-logloss:0.28611\n",
      "[204]\ttrain-logloss:0.27097\teval-logloss:0.28604\n",
      "[205]\ttrain-logloss:0.27081\teval-logloss:0.28589\n",
      "[206]\ttrain-logloss:0.27077\teval-logloss:0.28589\n",
      "[207]\ttrain-logloss:0.27073\teval-logloss:0.28592\n",
      "[208]\ttrain-logloss:0.27064\teval-logloss:0.28580\n",
      "[209]\ttrain-logloss:0.27055\teval-logloss:0.28577\n",
      "[210]\ttrain-logloss:0.27052\teval-logloss:0.28574\n",
      "[211]\ttrain-logloss:0.27043\teval-logloss:0.28575\n",
      "[212]\ttrain-logloss:0.27033\teval-logloss:0.28567\n",
      "[213]\ttrain-logloss:0.27016\teval-logloss:0.28570\n",
      "[214]\ttrain-logloss:0.27007\teval-logloss:0.28565\n",
      "[215]\ttrain-logloss:0.26989\teval-logloss:0.28551\n",
      "[216]\ttrain-logloss:0.26986\teval-logloss:0.28551\n",
      "[217]\ttrain-logloss:0.26971\teval-logloss:0.28533\n",
      "[218]\ttrain-logloss:0.26961\teval-logloss:0.28533\n",
      "[219]\ttrain-logloss:0.26950\teval-logloss:0.28521\n",
      "[220]\ttrain-logloss:0.26936\teval-logloss:0.28511\n",
      "[221]\ttrain-logloss:0.26926\teval-logloss:0.28508\n",
      "[222]\ttrain-logloss:0.26912\teval-logloss:0.28504\n",
      "[223]\ttrain-logloss:0.26909\teval-logloss:0.28505\n",
      "[224]\ttrain-logloss:0.26900\teval-logloss:0.28502\n",
      "[225]\ttrain-logloss:0.26895\teval-logloss:0.28503\n",
      "[226]\ttrain-logloss:0.26888\teval-logloss:0.28506\n",
      "[227]\ttrain-logloss:0.26884\teval-logloss:0.28504\n",
      "[228]\ttrain-logloss:0.26873\teval-logloss:0.28504\n",
      "[229]\ttrain-logloss:0.26867\teval-logloss:0.28499\n",
      "[230]\ttrain-logloss:0.26865\teval-logloss:0.28498\n",
      "[231]\ttrain-logloss:0.26852\teval-logloss:0.28493\n",
      "[232]\ttrain-logloss:0.26843\teval-logloss:0.28498\n",
      "[233]\ttrain-logloss:0.26833\teval-logloss:0.28492\n",
      "[234]\ttrain-logloss:0.26829\teval-logloss:0.28493\n",
      "[235]\ttrain-logloss:0.26823\teval-logloss:0.28490\n",
      "[236]\ttrain-logloss:0.26813\teval-logloss:0.28475\n",
      "[237]\ttrain-logloss:0.26805\teval-logloss:0.28474\n",
      "[238]\ttrain-logloss:0.26788\teval-logloss:0.28474\n",
      "[239]\ttrain-logloss:0.26783\teval-logloss:0.28474\n",
      "[240]\ttrain-logloss:0.26774\teval-logloss:0.28475\n",
      "[241]\ttrain-logloss:0.26771\teval-logloss:0.28473\n",
      "[242]\ttrain-logloss:0.26765\teval-logloss:0.28473\n",
      "[243]\ttrain-logloss:0.26760\teval-logloss:0.28469\n",
      "[244]\ttrain-logloss:0.26742\teval-logloss:0.28461\n",
      "[245]\ttrain-logloss:0.26734\teval-logloss:0.28453\n",
      "[246]\ttrain-logloss:0.26729\teval-logloss:0.28454\n",
      "[247]\ttrain-logloss:0.26727\teval-logloss:0.28454\n",
      "[248]\ttrain-logloss:0.26722\teval-logloss:0.28454\n",
      "[249]\ttrain-logloss:0.26713\teval-logloss:0.28454\n",
      "[250]\ttrain-logloss:0.26704\teval-logloss:0.28449\n",
      "[251]\ttrain-logloss:0.26695\teval-logloss:0.28451\n",
      "[252]\ttrain-logloss:0.26681\teval-logloss:0.28448\n",
      "[253]\ttrain-logloss:0.26677\teval-logloss:0.28448\n",
      "[254]\ttrain-logloss:0.26669\teval-logloss:0.28445\n",
      "[255]\ttrain-logloss:0.26660\teval-logloss:0.28437\n",
      "[256]\ttrain-logloss:0.26652\teval-logloss:0.28440\n",
      "[257]\ttrain-logloss:0.26647\teval-logloss:0.28441\n",
      "[258]\ttrain-logloss:0.26636\teval-logloss:0.28435\n",
      "[259]\ttrain-logloss:0.26622\teval-logloss:0.28431\n",
      "[260]\ttrain-logloss:0.26608\teval-logloss:0.28418\n",
      "[261]\ttrain-logloss:0.26600\teval-logloss:0.28416\n",
      "[262]\ttrain-logloss:0.26597\teval-logloss:0.28416\n",
      "[263]\ttrain-logloss:0.26589\teval-logloss:0.28411\n",
      "[264]\ttrain-logloss:0.26583\teval-logloss:0.28411\n",
      "[265]\ttrain-logloss:0.26580\teval-logloss:0.28416\n",
      "[266]\ttrain-logloss:0.26571\teval-logloss:0.28416\n",
      "[267]\ttrain-logloss:0.26566\teval-logloss:0.28415\n",
      "[268]\ttrain-logloss:0.26561\teval-logloss:0.28416\n",
      "[269]\ttrain-logloss:0.26554\teval-logloss:0.28417\n",
      "[270]\ttrain-logloss:0.26540\teval-logloss:0.28402\n",
      "[271]\ttrain-logloss:0.26536\teval-logloss:0.28404\n",
      "[272]\ttrain-logloss:0.26531\teval-logloss:0.28405\n",
      "[273]\ttrain-logloss:0.26519\teval-logloss:0.28402\n",
      "[274]\ttrain-logloss:0.26515\teval-logloss:0.28401\n",
      "[275]\ttrain-logloss:0.26502\teval-logloss:0.28394\n",
      "[276]\ttrain-logloss:0.26491\teval-logloss:0.28395\n",
      "[277]\ttrain-logloss:0.26480\teval-logloss:0.28397\n",
      "[278]\ttrain-logloss:0.26470\teval-logloss:0.28389\n",
      "[279]\ttrain-logloss:0.26462\teval-logloss:0.28386\n",
      "[280]\ttrain-logloss:0.26459\teval-logloss:0.28386\n",
      "[281]\ttrain-logloss:0.26456\teval-logloss:0.28386\n",
      "[282]\ttrain-logloss:0.26451\teval-logloss:0.28386\n",
      "[283]\ttrain-logloss:0.26441\teval-logloss:0.28382\n",
      "[284]\ttrain-logloss:0.26433\teval-logloss:0.28386\n",
      "[285]\ttrain-logloss:0.26429\teval-logloss:0.28386\n",
      "[286]\ttrain-logloss:0.26419\teval-logloss:0.28383\n",
      "[287]\ttrain-logloss:0.26409\teval-logloss:0.28369\n",
      "[288]\ttrain-logloss:0.26399\teval-logloss:0.28365\n",
      "[289]\ttrain-logloss:0.26391\teval-logloss:0.28367\n",
      "[290]\ttrain-logloss:0.26383\teval-logloss:0.28367\n",
      "[291]\ttrain-logloss:0.26376\teval-logloss:0.28371\n",
      "[292]\ttrain-logloss:0.26373\teval-logloss:0.28371\n",
      "[293]\ttrain-logloss:0.26372\teval-logloss:0.28370\n",
      "[294]\ttrain-logloss:0.26363\teval-logloss:0.28358\n",
      "[295]\ttrain-logloss:0.26351\teval-logloss:0.28355\n",
      "[296]\ttrain-logloss:0.26344\teval-logloss:0.28344\n",
      "[297]\ttrain-logloss:0.26338\teval-logloss:0.28340\n",
      "[298]\ttrain-logloss:0.26328\teval-logloss:0.28337\n",
      "[299]\ttrain-logloss:0.26322\teval-logloss:0.28340\n",
      "[300]\ttrain-logloss:0.26313\teval-logloss:0.28332\n",
      "[301]\ttrain-logloss:0.26307\teval-logloss:0.28331\n",
      "[302]\ttrain-logloss:0.26300\teval-logloss:0.28330\n",
      "[303]\ttrain-logloss:0.26296\teval-logloss:0.28331\n",
      "[304]\ttrain-logloss:0.26289\teval-logloss:0.28324\n",
      "[305]\ttrain-logloss:0.26278\teval-logloss:0.28312\n",
      "[306]\ttrain-logloss:0.26272\teval-logloss:0.28303\n",
      "[307]\ttrain-logloss:0.26267\teval-logloss:0.28304\n",
      "[308]\ttrain-logloss:0.26260\teval-logloss:0.28301\n",
      "[309]\ttrain-logloss:0.26252\teval-logloss:0.28299\n",
      "[310]\ttrain-logloss:0.26245\teval-logloss:0.28291\n",
      "[311]\ttrain-logloss:0.26239\teval-logloss:0.28291\n",
      "[312]\ttrain-logloss:0.26233\teval-logloss:0.28282\n",
      "[313]\ttrain-logloss:0.26231\teval-logloss:0.28280\n",
      "[314]\ttrain-logloss:0.26228\teval-logloss:0.28283\n",
      "[315]\ttrain-logloss:0.26221\teval-logloss:0.28281\n",
      "[316]\ttrain-logloss:0.26217\teval-logloss:0.28283\n",
      "[317]\ttrain-logloss:0.26209\teval-logloss:0.28281\n",
      "[318]\ttrain-logloss:0.26206\teval-logloss:0.28280\n",
      "[319]\ttrain-logloss:0.26200\teval-logloss:0.28281\n",
      "[320]\ttrain-logloss:0.26192\teval-logloss:0.28276\n",
      "[321]\ttrain-logloss:0.26181\teval-logloss:0.28276\n",
      "[322]\ttrain-logloss:0.26173\teval-logloss:0.28266\n",
      "[323]\ttrain-logloss:0.26165\teval-logloss:0.28265\n",
      "[324]\ttrain-logloss:0.26156\teval-logloss:0.28267\n",
      "[325]\ttrain-logloss:0.26151\teval-logloss:0.28267\n",
      "[326]\ttrain-logloss:0.26140\teval-logloss:0.28253\n",
      "[327]\ttrain-logloss:0.26137\teval-logloss:0.28253\n",
      "[328]\ttrain-logloss:0.26133\teval-logloss:0.28258\n",
      "[329]\ttrain-logloss:0.26125\teval-logloss:0.28258\n"
     ]
    },
    {
     "name": "stdout",
     "output_type": "stream",
     "text": [
      "[330]\ttrain-logloss:0.26117\teval-logloss:0.28256\n",
      "[331]\ttrain-logloss:0.26110\teval-logloss:0.28253\n",
      "[332]\ttrain-logloss:0.26101\teval-logloss:0.28243\n",
      "[333]\ttrain-logloss:0.26090\teval-logloss:0.28239\n",
      "[334]\ttrain-logloss:0.26080\teval-logloss:0.28236\n",
      "[335]\ttrain-logloss:0.26072\teval-logloss:0.28232\n",
      "[336]\ttrain-logloss:0.26065\teval-logloss:0.28234\n",
      "[337]\ttrain-logloss:0.26056\teval-logloss:0.28235\n",
      "[338]\ttrain-logloss:0.26054\teval-logloss:0.28235\n",
      "[339]\ttrain-logloss:0.26047\teval-logloss:0.28234\n",
      "[340]\ttrain-logloss:0.26040\teval-logloss:0.28234\n",
      "[341]\ttrain-logloss:0.26034\teval-logloss:0.28235\n",
      "[342]\ttrain-logloss:0.26023\teval-logloss:0.28233\n",
      "[343]\ttrain-logloss:0.26018\teval-logloss:0.28231\n",
      "[344]\ttrain-logloss:0.26015\teval-logloss:0.28230\n",
      "[345]\ttrain-logloss:0.26014\teval-logloss:0.28228\n",
      "[346]\ttrain-logloss:0.26009\teval-logloss:0.28224\n",
      "[347]\ttrain-logloss:0.26001\teval-logloss:0.28226\n",
      "[348]\ttrain-logloss:0.25991\teval-logloss:0.28226\n",
      "[349]\ttrain-logloss:0.25981\teval-logloss:0.28222\n",
      "[350]\ttrain-logloss:0.25975\teval-logloss:0.28221\n",
      "[351]\ttrain-logloss:0.25970\teval-logloss:0.28226\n",
      "[352]\ttrain-logloss:0.25962\teval-logloss:0.28224\n",
      "[353]\ttrain-logloss:0.25953\teval-logloss:0.28224\n",
      "[354]\ttrain-logloss:0.25949\teval-logloss:0.28229\n",
      "[355]\ttrain-logloss:0.25941\teval-logloss:0.28225\n",
      "[356]\ttrain-logloss:0.25933\teval-logloss:0.28225\n",
      "[357]\ttrain-logloss:0.25927\teval-logloss:0.28225\n",
      "[358]\ttrain-logloss:0.25921\teval-logloss:0.28216\n",
      "[359]\ttrain-logloss:0.25918\teval-logloss:0.28218\n",
      "[360]\ttrain-logloss:0.25908\teval-logloss:0.28219\n",
      "[361]\ttrain-logloss:0.25901\teval-logloss:0.28214\n",
      "[362]\ttrain-logloss:0.25890\teval-logloss:0.28215\n",
      "[363]\ttrain-logloss:0.25886\teval-logloss:0.28215\n",
      "[364]\ttrain-logloss:0.25872\teval-logloss:0.28218\n",
      "[365]\ttrain-logloss:0.25868\teval-logloss:0.28222\n",
      "[366]\ttrain-logloss:0.25858\teval-logloss:0.28226\n",
      "[367]\ttrain-logloss:0.25855\teval-logloss:0.28225\n",
      "[368]\ttrain-logloss:0.25850\teval-logloss:0.28224\n",
      "[369]\ttrain-logloss:0.25843\teval-logloss:0.28223\n",
      "[370]\ttrain-logloss:0.25839\teval-logloss:0.28215\n",
      "[371]\ttrain-logloss:0.25833\teval-logloss:0.28214\n",
      "[372]\ttrain-logloss:0.25830\teval-logloss:0.28214\n",
      "[373]\ttrain-logloss:0.25826\teval-logloss:0.28213\n",
      "[374]\ttrain-logloss:0.25816\teval-logloss:0.28206\n",
      "[375]\ttrain-logloss:0.25810\teval-logloss:0.28205\n",
      "[376]\ttrain-logloss:0.25805\teval-logloss:0.28196\n",
      "[377]\ttrain-logloss:0.25802\teval-logloss:0.28192\n",
      "[378]\ttrain-logloss:0.25794\teval-logloss:0.28191\n",
      "[379]\ttrain-logloss:0.25792\teval-logloss:0.28187\n",
      "[380]\ttrain-logloss:0.25788\teval-logloss:0.28181\n",
      "[381]\ttrain-logloss:0.25784\teval-logloss:0.28175\n",
      "[382]\ttrain-logloss:0.25780\teval-logloss:0.28168\n",
      "[383]\ttrain-logloss:0.25775\teval-logloss:0.28163\n",
      "[384]\ttrain-logloss:0.25774\teval-logloss:0.28161\n",
      "[385]\ttrain-logloss:0.25768\teval-logloss:0.28160\n",
      "[386]\ttrain-logloss:0.25765\teval-logloss:0.28157\n",
      "[387]\ttrain-logloss:0.25760\teval-logloss:0.28154\n",
      "[388]\ttrain-logloss:0.25755\teval-logloss:0.28156\n",
      "[389]\ttrain-logloss:0.25749\teval-logloss:0.28152\n",
      "[390]\ttrain-logloss:0.25747\teval-logloss:0.28150\n",
      "[391]\ttrain-logloss:0.25738\teval-logloss:0.28145\n",
      "[392]\ttrain-logloss:0.25736\teval-logloss:0.28144\n",
      "[393]\ttrain-logloss:0.25727\teval-logloss:0.28138\n",
      "[394]\ttrain-logloss:0.25721\teval-logloss:0.28138\n",
      "[395]\ttrain-logloss:0.25717\teval-logloss:0.28135\n",
      "[396]\ttrain-logloss:0.25715\teval-logloss:0.28135\n",
      "[397]\ttrain-logloss:0.25712\teval-logloss:0.28131\n",
      "[398]\ttrain-logloss:0.25709\teval-logloss:0.28126\n",
      "[399]\ttrain-logloss:0.25705\teval-logloss:0.28121\n"
     ]
    }
   ],
   "source": [
    "wlist = [(dtrain,'train'),(dtest,'eval') ]\n",
    "# 하이퍼 파라미터와 early stopping 파라미터를 train( ) 함수의 파라미터로 전달\n",
    "xgb_model = xgb.train(params = params , dtrain=dtrain , num_boost_round=num_rounds , evals=wlist )"
   ]
  },
  {
   "cell_type": "code",
   "execution_count": 51,
   "metadata": {},
   "outputs": [
    {
     "name": "stdout",
     "output_type": "stream",
     "text": [
      "predict( ) 수행 결과값을 10개만 표시, 예측 확률 값으로 표시됨\n",
      "[0.016 0.028 0.164 0.454 0.351 0.202 0.038 0.075 0.136 0.   ]\n",
      "예측값 10개만 표시: [0, 0, 0, 0, 0, 0, 0, 0, 0, 0]\n"
     ]
    }
   ],
   "source": [
    "pred_probs = xgb_model.predict(dtest)\n",
    "print('predict( ) 수행 결과값을 10개만 표시, 예측 확률 값으로 표시됨')\n",
    "print(np.round(pred_probs[:10],3))\n",
    "\n",
    "# 예측 확률이 0.5 보다 크면 1 , 그렇지 않으면 0 으로 예측값 결정하여 List 객체인 preds에 저장 \n",
    "preds = [ 1 if x > 0.5 else 0 for x in pred_probs ]\n",
    "print('예측값 10개만 표시:',preds[:10])"
   ]
  },
  {
   "cell_type": "code",
   "execution_count": 52,
   "metadata": {},
   "outputs": [
    {
     "name": "stdout",
     "output_type": "stream",
     "text": [
      "오차 행렬\n",
      "[[6963  444]\n",
      " [ 837 1525]]\n",
      "정확도: 0.8689, 정밀도: 0.7745, 재현율: 0.6456,    F1: 0.7042, AUC:0.9268\n"
     ]
    }
   ],
   "source": [
    "get_clf_eval(y_test , preds, pred_probs)"
   ]
  },
  {
   "cell_type": "code",
   "execution_count": 53,
   "metadata": {},
   "outputs": [
    {
     "data": {
      "text/plain": [
       "<AxesSubplot:title={'center':'Feature importance'}, xlabel='F score', ylabel='Features'>"
      ]
     },
     "execution_count": 53,
     "metadata": {},
     "output_type": "execute_result"
    },
    {
     "data": {
      "image/png": "[encoded data removed]",
      "text/plain": [
       "<Figure size 720x864 with 1 Axes>"
      ]
     },
     "metadata": {
      "needs_background": "light"
     },
     "output_type": "display_data"
    }
   ],
   "source": [
    "import matplotlib.pyplot as plt\n",
    "%matplotlib inline\n",
    "\n",
    "fig, ax = plt.subplots(figsize=(10, 12))\n",
    "plot_importance(xgb_model, ax=ax)"
   ]
  },
  {
   "cell_type": "code",
   "execution_count": null,
   "metadata": {},
   "outputs": [],
   "source": []
  },
  {
   "cell_type": "code",
   "execution_count": null,
   "metadata": {},
   "outputs": [],
   "source": []
  },
  {
   "cell_type": "code",
   "execution_count": null,
   "metadata": {},
   "outputs": [],
   "source": []
  },
  {
   "cell_type": "code",
   "execution_count": null,
   "metadata": {},
   "outputs": [],
   "source": []
  },
  {
   "cell_type": "code",
   "execution_count": null,
   "metadata": {},
   "outputs": [],
   "source": []
  },
  {
   "cell_type": "code",
   "execution_count": null,
   "metadata": {},
   "outputs": [],
   "source": []
  }
 ],
 "metadata": {
  "kernelspec": {
   "display_name": "Python 3",
   "language": "python",
   "name": "python3"
  },
  "language_info": {
   "codemirror_mode": {
    "name": "ipython",
    "version": 3
   },
   "file_extension": ".py",
   "mimetype": "text/x-python",
   "name": "python",
   "nbconvert_exporter": "python",
   "pygments_lexer": "ipython3",
   "version": "3.8.3"
  }
 },
 "nbformat": 4,
 "nbformat_minor": 4
}
